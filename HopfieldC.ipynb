{
  "nbformat": 4,
  "nbformat_minor": 0,
  "metadata": {
    "colab": {
      "name": "HopfieldC.ipynb",
      "provenance": [],
      "authorship_tag": "ABX9TyPi6qSNQxzOgyatKGJeCfre",
      "include_colab_link": true
    },
    "kernelspec": {
      "name": "python3",
      "display_name": "Python 3"
    },
    "language_info": {
      "name": "python"
    }
  },
  "cells": [
    {
      "cell_type": "markdown",
      "metadata": {
        "id": "view-in-github",
        "colab_type": "text"
      },
      "source": [
        "<a href=\"https://colab.research.google.com/github/Iranspike/Iranspike.github.io/blob/main/HopfieldC.ipynb\" target=\"_parent\"><img src=\"https://colab.research.google.com/assets/colab-badge.svg\" alt=\"Open In Colab\"/></a>"
      ]
    },
    {
      "cell_type": "markdown",
      "metadata": {
        "id": "3y8pFdL2rnH0"
      },
      "source": [
        "### **Definiciones**"
      ]
    },
    {
      "cell_type": "code",
      "metadata": {
        "id": "mSptP_hIqhyG"
      },
      "source": [
        "from sympy.physics.quantum import *\n",
        "from sympy.physics.quantum.boson import BosonOp\n",
        "from sympy.physics.quantum import Dagger, Commutator\n",
        "import sympy\n",
        "sympy.init_printing()\n",
        "from sympy import*\n",
        "#---------------------------------\n",
        "def collect_coeff(expresion,A):\n",
        "  vt = 0\n",
        "  for k in range(len(expand(expresion).args)):\n",
        "    if (expand(expresion).args[k]).coeff(A)!=0:\n",
        "      vt+= (expand(expresion).args[k].coeff(A))\n",
        "  return (vt)\n",
        "#------------------------\n",
        "def collect_coeff(expresion,A):\n",
        "  vt = 0\n",
        "  for k in range(len(expand(expresion).args)):\n",
        "    if (expand(expresion).args[k]).coeff(A)!=0:\n",
        "      vt+= (expand(expresion).args[k].coeff(A))\n",
        "  return (vt)*A\n",
        "#-------------------------\n",
        "def conmutador(A,B):\n",
        "  return (Commutator(A,B).expand(commutator=True).expand(commutator=True).expand(commutator=True).doit()).subs({b*a:a*b , bd*ad:ad*bd , bd*a:a*bd, b*ad:ad*b},simultaneous=True)\n",
        "def conmutadorxp(A,B):\n",
        "  return expand((Commutator(A,B).expand(commutator=True).expand(commutator=True).doit()).subs({x_a*p_a:I+p_a*x_a,x_b*p_b:I+p_b*x_b,x_b*x_a:x_a*x_b,p_b*x_a:x_a*p_b,p_a*x_b:x_b*p_a,p_b*p_a:p_a*p_b},simultaneous=True))\n",
        "#----------\n",
        "def BCH(A,B,theta):\n",
        "  bch = B+theta*conmutador(A,B)+theta**2/factorial(2)*conmutador(A,conmutador(A,B))+theta**3/factorial(3)*conmutador(A,conmutador(A,conmutador(A,B)))+theta**4/factorial(4)*conmutador(A,conmutador(A,conmutador(A,conmutador(A,B))))+theta**5/factorial(5)*conmutador(A,conmutador(A,conmutador(A,conmutador(A,conmutador(A,B)))))+theta**6/factorial(6)*conmutador(A,conmutador(A,conmutador(A,conmutador(A,conmutador(A,conmutador(A,B))))))+theta**7/factorial(7)*conmutador(A,conmutador(A,conmutador(A,conmutador(A,conmutador(A,conmutador(A,conmutador(A,B)))))))\n",
        "  bcha = collect_coeff(bch,a)\n",
        "  bchad = collect_coeff(bch,ad)\n",
        "  bchb = collect_coeff(bch,b)\n",
        "  bchbd = collect_coeff(bch,bd)\n",
        "  #---------\n",
        "  if bcha.coeff(a)==series(cos(theta),theta,0,8).removeO():\n",
        "    bcha = cos(theta)*a\n",
        "  if bcha.coeff(a)==series(-cos(theta),theta,0,8).removeO():\n",
        "    bcha = -cos(theta)*a\n",
        "  if bcha.coeff(a)==series(sin(theta),theta,0,8).removeO():\n",
        "    bcha = sin(theta)*a\n",
        "  if bcha.coeff(a)==series(-sin(theta),theta,0,8).removeO():\n",
        "    bcha = -sin(theta)*a\n",
        "  #---------\n",
        "  if bchb.coeff(b)==series(sin(theta),theta,0,8).removeO():\n",
        "    bchb = sin(theta)*b\n",
        "  if bchb.coeff(b)==series(-sin(theta),theta,0,8).removeO():\n",
        "    bchb = -sin(theta)*b\n",
        "  if bchb.coeff(b)==series(cos(theta),theta,0,8).removeO():\n",
        "    bchb = cos(theta)*b\n",
        "  if bchb.coeff(b)==series(-cos(theta),theta,0,8).removeO():\n",
        "    bchb = -cos(theta)*b\n",
        "  #----------\n",
        "  if bchad.coeff(ad)==series(cos(theta),theta,0,8).removeO():\n",
        "    bchad = cos(theta)*ad\n",
        "  if bchad.coeff(ad)==series(-cos(theta),theta,0,8).removeO():\n",
        "    bchad = -cos(theta)*ad\n",
        "  if bchad.coeff(ad)==series(sin(theta),theta,0,8).removeO():\n",
        "    bchad = sin(theta)*ad\n",
        "  if bchad.coeff(ad)==series(-sin(theta),theta,0,8).removeO():\n",
        "    bchad = -sin(theta)*ad\n",
        "  #---------   \n",
        "  if bchbd.coeff(bd)==series(sin(theta),theta,0,8).removeO():\n",
        "    bchbd = sin(theta)*bd\n",
        "  if bchbd.coeff(bd)==series(-sin(theta),theta,0,8).removeO():\n",
        "    bchbd = -sin(theta)*bd\n",
        "  if bchbd.coeff(bd)==series(cos(theta),theta,0,8).removeO():\n",
        "    bchbd = cos(theta)*bd\n",
        "  if bchbd.coeff(bd)==series(-cos(theta),theta,0,8).removeO():\n",
        "    bchbd = -cos(theta)*bd\n",
        "  #---------\n",
        "  if bchb.coeff(b)==series(exp(-theta),theta.args[1],0,8).removeO():\n",
        "    bchb = exp(-theta)*b\n",
        "  if bchbd.coeff(bd)==series(exp(theta),theta.args[1],0,8).removeO():\n",
        "    bchbd = exp(theta)*bd\n",
        "  if bcha.coeff(a)==series(exp(-theta),theta.args[1],0,8).removeO():\n",
        "    bcha = exp(-theta)*a\n",
        "  if bchad.coeff(ad)==series(exp(theta),theta.args[1],0,8).removeO():\n",
        "    bchad = exp(theta)*ad\n",
        "  return bcha+bchad+bchb+bchbd\n",
        "def BCHxp(A,B,theta):\n",
        "  bch = B+theta*conmutadorxp(A,B)+theta**2/factorial(2)*conmutadorxp(A,conmutadorxp(A,B))+theta**3/factorial(3)*conmutadorxp(A,conmutadorxp(A,conmutadorxp(A,B)))+theta**4/factorial(4)*conmutadorxp(A,conmutadorxp(A,conmutadorxp(A,conmutadorxp(A,B))))+theta**5/factorial(5)*conmutadorxp(A,conmutadorxp(A,conmutadorxp(A,conmutadorxp(A,conmutadorxp(A,B)))))+theta**6/factorial(6)*conmutadorxp(A,conmutadorxp(A,conmutadorxp(A,conmutadorxp(A,conmutadorxp(A,conmutadorxp(A,B))))))+theta**7/factorial(7)*conmutadorxp(A,conmutadorxp(A,conmutadorxp(A,conmutadorxp(A,conmutadorxp(A,conmutadorxp(A,conmutadorxp(A,B)))))))\n",
        "  bchxa = collect_coeff(bch,x_a)\n",
        "  bchxb = collect_coeff(bch,x_b)\n",
        "  bchpa = collect_coeff(bch,p_a)\n",
        "  bchpb = collect_coeff(bch,p_b)\n",
        "  if bchxa.coeff(x_a)==series(cos(theta.args[1]),theta.args[1],0,8).removeO():\n",
        "    bchxa = cos(theta.args[1])*x_a\n",
        "  if bchxa.coeff(x_a)==series(sin(theta.args[1]),theta.args[1],0,8).removeO():\n",
        "    bchxa = sin(theta.args[1])*x_a\n",
        "  #---------------  \n",
        "  if bchxb.coeff(x_b)==series(cos(theta.args[1]),theta.args[1],0,8).removeO():\n",
        "    bchxb = cos(theta.args[1])*x_b\n",
        "  if bchxb.coeff(x_b)==series(sin(theta.args[1]),theta.args[1],0,8).removeO():\n",
        "    bchxb = sin(theta.args[1])*x_b\n",
        "  if bchxb.coeff(x_b)==series(-sin(theta.args[1]),theta.args[1],0,8).removeO():\n",
        "    bchxb = -sin(theta.args[1])*x_b\n",
        "  #---------------\n",
        "  if bchpa.coeff(p_a)==series(cos(theta.args[1]),theta.args[1],0,8).removeO():\n",
        "     bchpa = cos(theta.args[1])*p_a\n",
        "  if bchpa.coeff(p_a)==series(sin(theta.args[1]),theta.args[1],0,8).removeO():\n",
        "     bchpa = sin(theta.args[1])*p_a\n",
        "  if bchpb.coeff(p_b)==series(cos(theta.args[1]),theta.args[1],0,8).removeO():\n",
        "     bchpb = cos(theta.args[1])*p_b\n",
        "  if bchpb.coeff(p_a)==series(sin(theta.args[1]),theta.args[1],0,8).removeO():\n",
        "     bchpb = sin(theta.args[1])*p_b\n",
        "  if bchpb.coeff(p_b)==series(-sin(theta.args[1]),theta.args[1],0,8).removeO():\n",
        "     bchpb = -sin(theta.args[1])*p_b\n",
        "  #-------------------------------\n",
        "  if bchxa.coeff(x_a)==series(exp(2*theta.args[1]),theta.args[1],0,8).removeO():\n",
        "     bchxa = exp(2*theta.args[1])*x_a\n",
        "  if bchxb.coeff(x_b)==series(exp(2*theta.args[1]),theta.args[1],0,8).removeO():\n",
        "     bchxb = exp(2*theta.args[1])*x_b\n",
        "  if bchpa.coeff(p_a)==series(exp(-2*theta.args[1]),theta.args[1],0,8).removeO():\n",
        "     bchpa = exp(-2*theta.args[1])*p_a\n",
        "  if bchpb.coeff(p_b)==series(exp(-2*theta.args[1]),theta.args[1],0,8).removeO():\n",
        "     bchpb = exp(-2*theta.args[1])*p_b\n",
        "  return bchxa+bchxb+bchpa+bchpb"
      ],
      "execution_count": 1,
      "outputs": []
    },
    {
      "cell_type": "markdown",
      "metadata": {
        "id": "MwyUVejVr0gk"
      },
      "source": [
        "### **The Model** \n",
        "\\begin{equation}\n",
        "\\hat{\\mathcal{R}}(\\theta) = \\hat{R}_\\theta\\hat{S}(s_1,s_2)\\hat{R}_{\\pi/4}\\hat{\\mathcal{F}}_{-\\pi/2}\n",
        "\\end{equation}\n",
        "where:\n",
        "\\begin{equation}\n",
        "\\begin{split}\n",
        "\\hat{\\mathcal{F}}_{\\theta}&= \\exp\\left(\\text{i}\\theta\\hat{b}^\\dagger\\hat{b}\\right),\\\\\n",
        "\\hat{R}_{\\theta}&=\\exp\\left[\\text{i}\\theta\\left(\\hat{x}_a\\hat{p}_b-\\hat{p}_a\\hat{x}_b\\right)\\right],\\\\\n",
        "\\hat{S}(s_1,s_2)&=\\exp\\left[\\text{i}s_1\\left(\\hat{x}_a\\hat{p}_a+\\hat{p}_a\\hat{x}_a\\right)\\right]\\exp\\left[\\text{i}s_2\\left(\\hat{x}_b\\hat{p}_b+\\hat{p}_b\\hat{x}_b\\right)\\right]\n",
        "\\end{split}\n",
        "\\end{equation}\n",
        "\n",
        "- \n",
        "\\begin{equation}\n",
        "\\hat{H} = \\omega_a\\left(\\hat{a}^\\dagger\\hat{a}+\\frac{1}{2}\\right)+\\omega_b\\left(\\hat{b}^\\dagger\\hat{b}+\\frac{1}{2}\\right)+\\text{i}\\left(\\hat{a}\\hat{b}^\\dagger-\\hat{a}^\\dagger\\hat{b}\\right)+\\text{i}\\left(\\hat{a}^\\dagger\\hat{b}^\\dagger-\\hat{a}\\hat{b}\\right)+D\\left(\\hat{a}+\\hat{a}^\\dagger\\right)^2\n",
        "\\end{equation}\n",
        "-\n",
        "\\begin{equation}\n",
        "\\begin{split}\n",
        "\\hat{H}_{\\text{dig}}&=\\hat{\\mathcal{R}}\\hat{H}\\hat{R}^\\dagger\\\\\n",
        "&=\\frac{1}{2}\\left(\\hat{p}_a^2+\\tilde{\\omega}_a^2\\hat{x}_a^2\\right)+\\frac{1}{2}\\left(\\hat{p}_b^2+\\tilde{\\omega}_b^2\\hat{x}_b^2\\right)\\\\\n",
        "&=\\tilde{\\omega}_a\\left(\\hat{a}_{\\mathcal{R}}^\\dagger\\hat{a}_{\\mathcal{R}}+\\frac{1}{2}\\right)+\\tilde{\\omega}_b\\left(\\hat{b}_{\\mathcal{R}}^\\dagger\\hat{b}_{\\mathcal{R}}+\\frac{1}{2}\\right)\n",
        "\\end{split}\n",
        "\\end{equation}\n",
        "with:\n",
        "\\begin{equation}\n",
        "\\begin{split}\n",
        "\\hat{a}_{\\mathcal{R}},\\hat{a}_{\\mathcal{R}}^\\dagger &= \\sqrt{\\frac{\\tilde{\\omega}_a}{2}}\\left(\\hat{x}_a\\pm\\frac{\\text{i}}{\\tilde{\\omega}_a}\\hat{p}_a\\right),\\\\\n",
        "\\hat{b}_{\\mathcal{R}},\\hat{b}_{\\mathcal{R}}^\\dagger &= \\sqrt{\\frac{\\tilde{\\omega}_b}{2}}\\left(\\hat{x}_b\\pm\\frac{\\text{i}}{\\tilde{\\omega}_b}\\hat{p}_b\\right)\n",
        "\\end{split}\n",
        "\\end{equation}\n",
        "\\begin{equation}\n",
        "\\tilde{\\omega}_c^2=\\frac{\\Omega_{b}^{2}}{2} + \\frac{\\Omega_{c}^{2}}{2} + \\lambda_{1} \\lambda_{2} + \\frac{\\sqrt{\\left(1 - \\lambda_{2}^{2}\\right) \\left(\\Omega_{b}^{2} - \\Omega_{c}^{2}\\right)^{2} + \\left(2 \\lambda_{1} + \\lambda_{2} \\left(\\Omega_{b}^{2} + \\Omega_{c}^{2}\\right)\\right)^{2}}}{2}\n",
        "\\end{equation}\\\n",
        "\\begin{equation}\n",
        "\\tilde{\\omega}_b^2=\\frac{\\Omega_{b}^{2}}{2} + \\frac{\\Omega_{c}^{2}}{2} + \\lambda_{1} \\lambda_{2} - \\frac{\\sqrt{\\left(1 - \\lambda_{2}^{2}\\right) \\left(\\Omega_{b}^{2} - \\Omega_{c}^{2}\\right)^{2} + \\left(2 \\lambda_{1} + \\lambda_{2} \\left(\\Omega_{b}^{2} + \\Omega_{c}^{2}\\right)\\right)^{2}}}{2}\n",
        "\\end{equation}\n",
        "where:\n",
        "  - $\\Omega_{a}^2=\\omega_a^2+4D\\omega_a$\n",
        "  - $\\Omega_{b}^2=\\omega_b^2$\n",
        "  - $\\lambda_{1,2} = (g_1\\pm g_2)\\sqrt{\\omega_a\\omega_b}$"
      ]
    },
    {
      "cell_type": "markdown",
      "metadata": {
        "id": "SPX8TkWjB_VN"
      },
      "source": [
        "### **First step:** $\\hat{R}_{\\theta}^\\dagger \\{\\hat{x}_a,\\hat{x}_b,\\hat{p}_a,\\hat{p}_b\\}\\hat{R}_{\\theta}$\n"
      ]
    },
    {
      "cell_type": "code",
      "metadata": {
        "id": "H4atAhz9qk73"
      },
      "source": [
        "x_a, x_b, p_a, p_b = Operator('\\hat{x}_a'), Operator('\\hat{x}_b'), Operator('\\hat{p}_a'), Operator('\\hat{p}_b')"
      ],
      "execution_count": 2,
      "outputs": []
    },
    {
      "cell_type": "code",
      "metadata": {
        "colab": {
          "base_uri": "https://localhost:8080/",
          "height": 38
        },
        "id": "I2iJT_XE8P0u",
        "outputId": "bb7c9446-32a4-4f02-d4ca-99521f05da9b"
      },
      "source": [
        "theta = symbols('theta', real=True)\n",
        "R = x_a*p_b-p_a*x_b\n",
        "x_a_theta = BCHxp(R,x_a,I*theta)\n",
        "x_b_theta = BCHxp(R,x_b,I*theta)\n",
        "p_a_theta = BCHxp(R,p_a,I*theta)\n",
        "p_b_theta = BCHxp(R,p_b,I*theta)\n",
        "x_a_theta,x_b_theta,p_a_theta,p_b_theta"
      ],
      "execution_count": 3,
      "outputs": [
        {
          "output_type": "execute_result",
          "data": {
            "image/png": "[encoded data removed]",
            "text/latex": "$\\displaystyle \\left( - \\sin{\\left(\\theta \\right)} \\hat{x}_b + \\cos{\\left(\\theta \\right)} \\hat{x}_a, \\  \\sin{\\left(\\theta \\right)} \\hat{x}_a + \\cos{\\left(\\theta \\right)} \\hat{x}_b, \\  - \\sin{\\left(\\theta \\right)} \\hat{p}_b + \\cos{\\left(\\theta \\right)} \\hat{p}_a, \\  \\sin{\\left(\\theta \\right)} \\hat{p}_a + \\cos{\\left(\\theta \\right)} \\hat{p}_b\\right)$",
            "text/plain": [
              "(-sin(θ)⋅\\hat{x}_b + cos(θ)⋅\\hat{x}ₐ, sin(θ)⋅\\hat{x}ₐ + cos(θ)⋅\\hat{x}_b, -sin\n",
              "(θ)⋅\\hat{p}_b + cos(θ)⋅\\hat{p}ₐ, sin(θ)⋅\\hat{p}ₐ + cos(θ)⋅\\hat{p}_b)"
            ]
          },
          "metadata": {},
          "execution_count": 3
        }
      ]
    },
    {
      "cell_type": "code",
      "metadata": {
        "colab": {
          "base_uri": "https://localhost:8080/",
          "height": 38
        },
        "id": "i3Ohzhzv8QXK",
        "outputId": "3ac1acb3-e852-41fa-921c-4bdd2971db2f"
      },
      "source": [
        "x_a_1 = x_a_theta.subs({theta:-theta})\n",
        "x_b_1 = x_b_theta.subs({theta:-theta})\n",
        "p_a_1 = p_a_theta.subs({theta:-theta})\n",
        "p_b_1 = p_b_theta.subs({theta:-theta})\n",
        "#-----------------------------------\n",
        "x_a_1,x_b_1,p_a_1,p_b_1"
      ],
      "execution_count": 4,
      "outputs": [
        {
          "output_type": "execute_result",
          "data": {
            "image/png": "[encoded data removed]",
            "text/latex": "$\\displaystyle \\left( \\sin{\\left(\\theta \\right)} \\hat{x}_b + \\cos{\\left(\\theta \\right)} \\hat{x}_a, \\  - \\sin{\\left(\\theta \\right)} \\hat{x}_a + \\cos{\\left(\\theta \\right)} \\hat{x}_b, \\  \\sin{\\left(\\theta \\right)} \\hat{p}_b + \\cos{\\left(\\theta \\right)} \\hat{p}_a, \\  - \\sin{\\left(\\theta \\right)} \\hat{p}_a + \\cos{\\left(\\theta \\right)} \\hat{p}_b\\right)$",
            "text/plain": [
              "(sin(θ)⋅\\hat{x}_b + cos(θ)⋅\\hat{x}ₐ, -sin(θ)⋅\\hat{x}ₐ + cos(θ)⋅\\hat{x}_b, sin(\n",
              "θ)⋅\\hat{p}_b + cos(θ)⋅\\hat{p}ₐ, -sin(θ)⋅\\hat{p}ₐ + cos(θ)⋅\\hat{p}_b)"
            ]
          },
          "metadata": {},
          "execution_count": 4
        }
      ]
    },
    {
      "cell_type": "markdown",
      "metadata": {
        "id": "Q6EVrMlsNMgP"
      },
      "source": [
        "### **Second step:** $\\hat{S}^\\dagger(s_1,s_2)\\hat{R}_{\\theta}^\\dagger\\{\\hat{x}_a,\\hat{x}_b,\\hat{p}_a,\\hat{p}_b\\}\\hat{R}_{\\theta}\\hat{S}(s_1,s_2)$"
      ]
    },
    {
      "cell_type": "code",
      "metadata": {
        "id": "KriL_tDG8miY"
      },
      "source": [
        "s_a, s_b = symbols('s_a,s_b',real=True)\n",
        "lambda_1, lambda_2 = symbols('lambda_1,lambda_2',real=True) \n",
        "S_a = x_a*p_a+p_a*x_a\n",
        "S_b = x_b*p_b+p_b*x_b"
      ],
      "execution_count": 5,
      "outputs": []
    },
    {
      "cell_type": "code",
      "metadata": {
        "colab": {
          "base_uri": "https://localhost:8080/",
          "height": 38
        },
        "id": "gawtYD8mN_-J",
        "outputId": "6844ae38-8f54-4466-ab85-6223d7e6241e"
      },
      "source": [
        "x_s_a = BCHxp(S_a,x_a,I*s_a)\n",
        "x_s_b = BCHxp(S_b,x_b,I*s_b)\n",
        "p_s_a = BCHxp(S_a,p_a,I*s_a)\n",
        "p_s_b = BCHxp(S_b,p_b,I*s_b)\n",
        "#--------------------------\n",
        "x_s_a, x_s_b, p_s_a, p_s_b"
      ],
      "execution_count": 6,
      "outputs": [
        {
          "output_type": "execute_result",
          "data": {
            "image/png": "[encoded data removed]",
            "text/latex": "$\\displaystyle \\left( e^{2 s_{a}} \\hat{x}_a, \\  e^{2 s_{b}} \\hat{x}_b, \\  e^{- 2 s_{a}} \\hat{p}_a, \\  e^{- 2 s_{b}} \\hat{p}_b\\right)$",
            "text/plain": [
              "⎛ 2⋅sₐ            2⋅s_b             -2⋅sₐ            -2⋅s_b          ⎞\n",
              "⎝ℯ    ⋅\\hat{x}ₐ, ℯ     ⋅\\hat{x}_b, ℯ     ⋅\\hat{p}ₐ, ℯ      ⋅\\hat{p}_b⎠"
            ]
          },
          "metadata": {},
          "execution_count": 6
        }
      ]
    },
    {
      "cell_type": "code",
      "metadata": {
        "colab": {
          "base_uri": "https://localhost:8080/",
          "height": 58
        },
        "id": "MvhDGMpeODbh",
        "outputId": "41adc14e-e464-46a6-e7ac-9e10c032a6d9"
      },
      "source": [
        "x_s_1 = x_s_a.subs({s_a:-Rational(1,2)*log(sqrt(1+lambda_2))})\n",
        "x_s_2 = x_s_b.subs({s_b:-Rational(1,2)*log(sqrt(1-lambda_2))})\n",
        "p_s_1 = p_s_a.subs({s_a:-Rational(1,2)*log(sqrt(1+lambda_2))})\n",
        "p_s_2 = p_s_b.subs({s_b:-Rational(1,2)*log(sqrt(1-lambda_2))})\n",
        "#---------------------------\n",
        "x_s_1, x_s_2, p_s_1, p_s_2"
      ],
      "execution_count": 7,
      "outputs": [
        {
          "output_type": "execute_result",
          "data": {
            "image/png": "[encoded data removed]",
            "text/latex": "$\\displaystyle \\left( \\frac{\\hat{x}_a}{\\sqrt{\\lambda_{2} + 1}}, \\  \\frac{\\hat{x}_b}{\\sqrt{1 - \\lambda_{2}}}, \\  \\sqrt{\\lambda_{2} + 1} \\hat{p}_a, \\  \\sqrt{1 - \\lambda_{2}} \\hat{p}_b\\right)$",
            "text/plain": [
              "⎛ \\hat{x}ₐ   \\hat{x}_b     ________             ________          ⎞\n",
              "⎜──────────, ──────────, ╲╱ λ₂ + 1 ⋅\\hat{p}ₐ, ╲╱ 1 - λ₂ ⋅\\hat{p}_b⎟\n",
              "⎜  ________    ________                                           ⎟\n",
              "⎝╲╱ λ₂ + 1   ╲╱ 1 - λ₂                                            ⎠"
            ]
          },
          "metadata": {},
          "execution_count": 7
        }
      ]
    },
    {
      "cell_type": "code",
      "metadata": {
        "colab": {
          "base_uri": "https://localhost:8080/",
          "height": 58
        },
        "id": "jZJ9F0sJP05L",
        "outputId": "abcd1761-90f8-495f-80a3-ec40067a19ce"
      },
      "source": [
        "x_a_2 = x_a_1.subs({x_a:x_s_1,x_b:x_s_2})\n",
        "x_b_2 = x_b_1.subs({x_a:x_s_1,x_b:x_s_2})\n",
        "p_a_2 = p_a_1.subs({p_a:p_s_1,p_b:p_s_2})\n",
        "p_b_2 = p_b_1.subs({p_a:p_s_1,p_b:p_s_2})\n",
        "#-----------------\n",
        "x_a_2,x_b_2,p_a_2,p_b_2"
      ],
      "execution_count": 8,
      "outputs": [
        {
          "output_type": "execute_result",
          "data": {
            "image/png": "[encoded data removed]",
            "text/latex": "$\\displaystyle \\left( \\frac{\\cos{\\left(\\theta \\right)} \\hat{x}_a}{\\sqrt{\\lambda_{2} + 1}} + \\frac{\\sin{\\left(\\theta \\right)} \\hat{x}_b}{\\sqrt{1 - \\lambda_{2}}}, \\  - \\frac{\\sin{\\left(\\theta \\right)} \\hat{x}_a}{\\sqrt{\\lambda_{2} + 1}} + \\frac{\\cos{\\left(\\theta \\right)} \\hat{x}_b}{\\sqrt{1 - \\lambda_{2}}}, \\  \\sqrt{1 - \\lambda_{2}} \\sin{\\left(\\theta \\right)} \\hat{p}_b + \\sqrt{\\lambda_{2} + 1} \\cos{\\left(\\theta \\right)} \\hat{p}_a, \\  \\sqrt{1 - \\lambda_{2}} \\cos{\\left(\\theta \\right)} \\hat{p}_b - \\sqrt{\\lambda_{2} + 1} \\sin{\\left(\\theta \\right)} \\hat{p}_a\\right)$",
            "text/plain": [
              "⎛cos(θ)⋅\\hat{x}ₐ   sin(θ)⋅\\hat{x}_b    sin(θ)⋅\\hat{x}ₐ   cos(θ)⋅\\hat{x}_b    _\n",
              "⎜─────────────── + ────────────────, - ─────────────── + ────────────────, ╲╱ \n",
              "⎜     ________          ________            ________          ________        \n",
              "⎝   ╲╱ λ₂ + 1         ╲╱ 1 - λ₂           ╲╱ λ₂ + 1         ╲╱ 1 - λ₂         \n",
              "\n",
              "_______                      ________                    ________             \n",
              "1 - λ₂ ⋅sin(θ)⋅\\hat{p}_b + ╲╱ λ₂ + 1 ⋅cos(θ)⋅\\hat{p}ₐ, ╲╱ 1 - λ₂ ⋅cos(θ)⋅\\hat{\n",
              "                                                                              \n",
              "                                                                              \n",
              "\n",
              "         ________                ⎞\n",
              "p}_b - ╲╱ λ₂ + 1 ⋅sin(θ)⋅\\hat{p}ₐ⎟\n",
              "                                 ⎟\n",
              "                                 ⎠"
            ]
          },
          "metadata": {},
          "execution_count": 8
        }
      ]
    },
    {
      "cell_type": "markdown",
      "metadata": {
        "id": "GakfjMI9SY7E"
      },
      "source": [
        "### **Third step:** $\\hat{R}_{\\pi/4}^\\dagger\\hat{S}^\\dagger(s_1,s_2)\\hat{R}_{\\theta}^\\dagger\\{\\hat{x}_a,\\hat{x}_b,\\hat{p}_a,\\hat{p}_b\\}\\hat{R}_{\\theta}\\hat{S}(s_1,s_2)\\hat{R}_{\\pi/4}$"
      ]
    },
    {
      "cell_type": "code",
      "metadata": {
        "colab": {
          "base_uri": "https://localhost:8080/",
          "height": 67
        },
        "id": "U5NQwQ9dQFKZ",
        "outputId": "ad650ec4-b21d-4bad-d4f9-1e15cf60b8f8"
      },
      "source": [
        "x_a_theta_p = x_a_theta.subs({theta:-pi/4})\n",
        "x_b_theta_p = x_b_theta.subs({theta:-pi/4})\n",
        "p_a_theta_p = p_a_theta.subs({theta:-pi/4})\n",
        "p_b_theta_p = p_b_theta.subs({theta:-pi/4})\n",
        "#----------------------------\n",
        "x_a_theta_p, x_b_theta_p, p_a_theta_p, p_b_theta_p"
      ],
      "execution_count": 9,
      "outputs": [
        {
          "output_type": "execute_result",
          "data": {
            "image/png": "[encoded data removed]",
            "text/latex": "$\\displaystyle \\left( \\frac{\\sqrt{2} \\hat{x}_a}{2} + \\frac{\\sqrt{2} \\hat{x}_b}{2}, \\  - \\frac{\\sqrt{2} \\hat{x}_a}{2} + \\frac{\\sqrt{2} \\hat{x}_b}{2}, \\  \\frac{\\sqrt{2} \\hat{p}_a}{2} + \\frac{\\sqrt{2} \\hat{p}_b}{2}, \\  - \\frac{\\sqrt{2} \\hat{p}_a}{2} + \\frac{\\sqrt{2} \\hat{p}_b}{2}\\right)$",
            "text/plain": [
              "⎛√2⋅\\hat{x}ₐ   √2⋅\\hat{x}_b    √2⋅\\hat{x}ₐ   √2⋅\\hat{x}_b  √2⋅\\hat{p}ₐ   √2⋅\\h\n",
              "⎜─────────── + ────────────, - ─────────── + ────────────, ─────────── + ─────\n",
              "⎝     2             2               2             2             2             \n",
              "\n",
              "at{p}_b    √2⋅\\hat{p}ₐ   √2⋅\\hat{p}_b⎞\n",
              "───────, - ─────────── + ────────────⎟\n",
              "2               2             2      ⎠"
            ]
          },
          "metadata": {},
          "execution_count": 9
        }
      ]
    },
    {
      "cell_type": "code",
      "metadata": {
        "colab": {
          "base_uri": "https://localhost:8080/",
          "height": 67
        },
        "id": "1CHI7f0qY7KA",
        "outputId": "110c7bf8-49d4-4dd6-fa0c-53e00e7659c1"
      },
      "source": [
        "x_aa_3= expand(x_a_2.subs({x_a:x_a_theta_p,x_b:x_b_theta_p},simultaneous=True))\n",
        "x_a_3 = collect_coeff(x_aa_3,x_a)+collect_coeff(x_aa_3,x_b)\n",
        "x_bb_3= expand(x_b_2.subs({x_a:x_a_theta_p,x_b:x_b_theta_p},simultaneous=True))\n",
        "x_b_3 = collect_coeff(x_bb_3,x_a)+collect_coeff(x_bb_3,x_b)\n",
        "p_aa_3= expand(p_a_2.subs({p_a:p_a_theta_p,p_b:p_b_theta_p},simultaneous=True))\n",
        "p_a_3 = collect_coeff(p_aa_3,p_a)+collect_coeff(p_aa_3,p_b)\n",
        "p_bb_3= expand(p_b_2.subs({p_a:p_a_theta_p,p_b:p_b_theta_p},simultaneous=True))\n",
        "p_b_3 = collect_coeff(p_bb_3,p_a)+collect_coeff(p_bb_3,p_b)\n",
        "#----------------------------------------------------------\n",
        "x_a_3,x_b_3"
      ],
      "execution_count": 10,
      "outputs": [
        {
          "output_type": "execute_result",
          "data": {
            "image/png": "[encoded data removed]",
            "text/latex": "$\\displaystyle \\left( \\left(\\frac{\\sqrt{2} \\cos{\\left(\\theta \\right)}}{2 \\sqrt{\\lambda_{2} + 1}} - \\frac{\\sqrt{2} \\sin{\\left(\\theta \\right)}}{2 \\sqrt{1 - \\lambda_{2}}}\\right) \\hat{x}_a + \\left(\\frac{\\sqrt{2} \\cos{\\left(\\theta \\right)}}{2 \\sqrt{\\lambda_{2} + 1}} + \\frac{\\sqrt{2} \\sin{\\left(\\theta \\right)}}{2 \\sqrt{1 - \\lambda_{2}}}\\right) \\hat{x}_b, \\  \\left(- \\frac{\\sqrt{2} \\sin{\\left(\\theta \\right)}}{2 \\sqrt{\\lambda_{2} + 1}} - \\frac{\\sqrt{2} \\cos{\\left(\\theta \\right)}}{2 \\sqrt{1 - \\lambda_{2}}}\\right) \\hat{x}_a + \\left(- \\frac{\\sqrt{2} \\sin{\\left(\\theta \\right)}}{2 \\sqrt{\\lambda_{2} + 1}} + \\frac{\\sqrt{2} \\cos{\\left(\\theta \\right)}}{2 \\sqrt{1 - \\lambda_{2}}}\\right) \\hat{x}_b\\right)$",
            "text/plain": [
              "⎛⎛ √2⋅cos(θ)      √2⋅sin(θ)  ⎞            ⎛ √2⋅cos(θ)      √2⋅sin(θ)  ⎞       \n",
              "⎜⎜──────────── - ────────────⎟⋅\\hat{x}ₐ + ⎜──────────── + ────────────⎟⋅\\hat{x\n",
              "⎜⎜    ________       ________⎟            ⎜    ________       ________⎟       \n",
              "⎝⎝2⋅╲╱ λ₂ + 1    2⋅╲╱ 1 - λ₂ ⎠            ⎝2⋅╲╱ λ₂ + 1    2⋅╲╱ 1 - λ₂ ⎠       \n",
              "\n",
              "     ⎛   √2⋅sin(θ)      √2⋅cos(θ)  ⎞            ⎛   √2⋅sin(θ)      √2⋅cos(θ)  \n",
              "}_b, ⎜- ──────────── - ────────────⎟⋅\\hat{x}ₐ + ⎜- ──────────── + ────────────\n",
              "     ⎜      ________       ________⎟            ⎜      ________       ________\n",
              "     ⎝  2⋅╲╱ λ₂ + 1    2⋅╲╱ 1 - λ₂ ⎠            ⎝  2⋅╲╱ λ₂ + 1    2⋅╲╱ 1 - λ₂ \n",
              "\n",
              "⎞          ⎞\n",
              "⎟⋅\\hat{x}_b⎟\n",
              "⎟          ⎟\n",
              "⎠          ⎠"
            ]
          },
          "metadata": {},
          "execution_count": 10
        }
      ]
    },
    {
      "cell_type": "code",
      "metadata": {
        "colab": {
          "base_uri": "https://localhost:8080/",
          "height": 87
        },
        "id": "sXoDIcvom2-X",
        "outputId": "2dc2245e-4c06-4c0a-f3cf-b20386d39735"
      },
      "source": [
        "p_a_3,p_b_3"
      ],
      "execution_count": 11,
      "outputs": [
        {
          "output_type": "execute_result",
          "data": {
            "image/png": "[encoded data removed]",
            "text/latex": "$\\displaystyle \\left( \\left(- \\frac{\\sqrt{2} \\sqrt{1 - \\lambda_{2}} \\sin{\\left(\\theta \\right)}}{2} + \\frac{\\sqrt{2} \\sqrt{\\lambda_{2} + 1} \\cos{\\left(\\theta \\right)}}{2}\\right) \\hat{p}_a + \\left(\\frac{\\sqrt{2} \\sqrt{1 - \\lambda_{2}} \\sin{\\left(\\theta \\right)}}{2} + \\frac{\\sqrt{2} \\sqrt{\\lambda_{2} + 1} \\cos{\\left(\\theta \\right)}}{2}\\right) \\hat{p}_b, \\  \\left(- \\frac{\\sqrt{2} \\sqrt{1 - \\lambda_{2}} \\cos{\\left(\\theta \\right)}}{2} - \\frac{\\sqrt{2} \\sqrt{\\lambda_{2} + 1} \\sin{\\left(\\theta \\right)}}{2}\\right) \\hat{p}_a + \\left(\\frac{\\sqrt{2} \\sqrt{1 - \\lambda_{2}} \\cos{\\left(\\theta \\right)}}{2} - \\frac{\\sqrt{2} \\sqrt{\\lambda_{2} + 1} \\sin{\\left(\\theta \\right)}}{2}\\right) \\hat{p}_b\\right)$",
            "text/plain": [
              "⎛⎛       ________               ________       ⎞            ⎛     ________    \n",
              "⎜⎜  √2⋅╲╱ 1 - λ₂ ⋅sin(θ)   √2⋅╲╱ λ₂ + 1 ⋅cos(θ)⎟            ⎜√2⋅╲╱ 1 - λ₂ ⋅sin\n",
              "⎜⎜- ──────────────────── + ────────────────────⎟⋅\\hat{p}ₐ + ⎜─────────────────\n",
              "⎝⎝           2                      2          ⎠            ⎝         2       \n",
              "\n",
              "           ________       ⎞            ⎛       ________               ________\n",
              "(θ)   √2⋅╲╱ λ₂ + 1 ⋅cos(θ)⎟            ⎜  √2⋅╲╱ 1 - λ₂ ⋅cos(θ)   √2⋅╲╱ λ₂ + 1 \n",
              "─── + ────────────────────⎟⋅\\hat{p}_b, ⎜- ──────────────────── - ─────────────\n",
              "               2          ⎠            ⎝           2                      2   \n",
              "\n",
              "       ⎞            ⎛     ________               ________       ⎞          ⎞\n",
              "⋅sin(θ)⎟            ⎜√2⋅╲╱ 1 - λ₂ ⋅cos(θ)   √2⋅╲╱ λ₂ + 1 ⋅sin(θ)⎟          ⎟\n",
              "───────⎟⋅\\hat{p}ₐ + ⎜──────────────────── - ────────────────────⎟⋅\\hat{p}_b⎟\n",
              "       ⎠            ⎝         2                      2          ⎠          ⎠"
            ]
          },
          "metadata": {},
          "execution_count": 11
        }
      ]
    },
    {
      "cell_type": "code",
      "metadata": {
        "colab": {
          "base_uri": "https://localhost:8080/",
          "height": 67
        },
        "id": "ITKlCKvaZQKA",
        "outputId": "87826f74-f87e-4302-cd79-80bdb25858b1"
      },
      "source": [
        "equ_1 = x_a_3.coeff(x_a)\n",
        "equ_2 = x_a_3.coeff(x_b)\n",
        "equ_3 = x_b_3.coeff(x_a)\n",
        "equ_4 = x_b_3.coeff(x_b)\n",
        "equ_1,equ_2,equ_3,equ_4"
      ],
      "execution_count": 12,
      "outputs": [
        {
          "output_type": "execute_result",
          "data": {
            "image/png": "[encoded data removed]",
            "text/latex": "$\\displaystyle \\left( \\frac{\\sqrt{2} \\cos{\\left(\\theta \\right)}}{2 \\sqrt{\\lambda_{2} + 1}} - \\frac{\\sqrt{2} \\sin{\\left(\\theta \\right)}}{2 \\sqrt{1 - \\lambda_{2}}}, \\  \\frac{\\sqrt{2} \\cos{\\left(\\theta \\right)}}{2 \\sqrt{\\lambda_{2} + 1}} + \\frac{\\sqrt{2} \\sin{\\left(\\theta \\right)}}{2 \\sqrt{1 - \\lambda_{2}}}, \\  - \\frac{\\sqrt{2} \\sin{\\left(\\theta \\right)}}{2 \\sqrt{\\lambda_{2} + 1}} - \\frac{\\sqrt{2} \\cos{\\left(\\theta \\right)}}{2 \\sqrt{1 - \\lambda_{2}}}, \\  - \\frac{\\sqrt{2} \\sin{\\left(\\theta \\right)}}{2 \\sqrt{\\lambda_{2} + 1}} + \\frac{\\sqrt{2} \\cos{\\left(\\theta \\right)}}{2 \\sqrt{1 - \\lambda_{2}}}\\right)$",
            "text/plain": [
              "⎛ √2⋅cos(θ)      √2⋅sin(θ)     √2⋅cos(θ)      √2⋅sin(θ)       √2⋅sin(θ)      √\n",
              "⎜──────────── - ────────────, ──────────── + ────────────, - ──────────── - ──\n",
              "⎜    ________       ________      ________       ________        ________     \n",
              "⎝2⋅╲╱ λ₂ + 1    2⋅╲╱ 1 - λ₂   2⋅╲╱ λ₂ + 1    2⋅╲╱ 1 - λ₂     2⋅╲╱ λ₂ + 1    2⋅\n",
              "\n",
              "2⋅cos(θ)       √2⋅sin(θ)      √2⋅cos(θ)  ⎞\n",
              "──────────, - ──────────── + ────────────⎟\n",
              "  ________        ________       ________⎟\n",
              "╲╱ 1 - λ₂     2⋅╲╱ λ₂ + 1    2⋅╲╱ 1 - λ₂ ⎠"
            ]
          },
          "metadata": {},
          "execution_count": 12
        }
      ]
    },
    {
      "cell_type": "code",
      "metadata": {
        "colab": {
          "base_uri": "https://localhost:8080/",
          "height": 87
        },
        "id": "6oJQA2NcaiSL",
        "outputId": "2f82093f-09de-4e30-f6f4-26f43c858026"
      },
      "source": [
        "eqv_1 = p_a_3.coeff(p_a)\n",
        "eqv_2 = p_a_3.coeff(p_b)\n",
        "eqv_3 = p_b_3.coeff(p_a)\n",
        "eqv_4 = p_b_3.coeff(p_b)\n",
        "eqv_1,eqv_2,eqv_3,eqv_4"
      ],
      "execution_count": 13,
      "outputs": [
        {
          "output_type": "execute_result",
          "data": {
            "image/png": "[encoded data removed]",
            "text/latex": "$\\displaystyle \\left( - \\frac{\\sqrt{2} \\sqrt{1 - \\lambda_{2}} \\sin{\\left(\\theta \\right)}}{2} + \\frac{\\sqrt{2} \\sqrt{\\lambda_{2} + 1} \\cos{\\left(\\theta \\right)}}{2}, \\  \\frac{\\sqrt{2} \\sqrt{1 - \\lambda_{2}} \\sin{\\left(\\theta \\right)}}{2} + \\frac{\\sqrt{2} \\sqrt{\\lambda_{2} + 1} \\cos{\\left(\\theta \\right)}}{2}, \\  - \\frac{\\sqrt{2} \\sqrt{1 - \\lambda_{2}} \\cos{\\left(\\theta \\right)}}{2} - \\frac{\\sqrt{2} \\sqrt{\\lambda_{2} + 1} \\sin{\\left(\\theta \\right)}}{2}, \\  \\frac{\\sqrt{2} \\sqrt{1 - \\lambda_{2}} \\cos{\\left(\\theta \\right)}}{2} - \\frac{\\sqrt{2} \\sqrt{\\lambda_{2} + 1} \\sin{\\left(\\theta \\right)}}{2}\\right)$",
            "text/plain": [
              "⎛       ________               ________              ________               __\n",
              "⎜  √2⋅╲╱ 1 - λ₂ ⋅sin(θ)   √2⋅╲╱ λ₂ + 1 ⋅cos(θ)  √2⋅╲╱ 1 - λ₂ ⋅sin(θ)   √2⋅╲╱ λ\n",
              "⎜- ──────────────────── + ────────────────────, ──────────────────── + ───────\n",
              "⎝           2                      2                     2                    \n",
              "\n",
              "______                ________               ________              ________   \n",
              "₂ + 1 ⋅cos(θ)    √2⋅╲╱ 1 - λ₂ ⋅cos(θ)   √2⋅╲╱ λ₂ + 1 ⋅sin(θ)  √2⋅╲╱ 1 - λ₂ ⋅co\n",
              "─────────────, - ──────────────────── - ────────────────────, ────────────────\n",
              "  2                       2                      2                     2      \n",
              "\n",
              "            ________       ⎞\n",
              "s(θ)   √2⋅╲╱ λ₂ + 1 ⋅sin(θ)⎟\n",
              "──── - ────────────────────⎟\n",
              "                2          ⎠"
            ]
          },
          "metadata": {},
          "execution_count": 13
        }
      ]
    },
    {
      "cell_type": "markdown",
      "metadata": {
        "id": "_AZjPnYcnpKF"
      },
      "source": [
        "### **Fourth step:** $\\hat{\\mathcal{F}}_{-\\pi/2}^\\dagger=\\exp(\\text{i}\\frac{\\pi}{2}\\hat{b}^\\dagger\\hat{b})$\n",
        "$\\hat{a}_{\\mathcal{R}},\\hat{a}_{\\mathcal{R}}^\\dagger=\\sqrt{\\frac{\\tilde{\\omega}_a}{2}}\\left(\\hat{x}_a\\pm\\frac{\\text{i}}{\\tilde{\\omega}_a}\\hat{p}_a\\right)$ $\\rightarrow$ $\\hat{\\mathcal{R}}^\\dagger(\\theta)\\{\\hat{a}_{\\mathcal{R}},\\hat{a}_{\\mathcal{R}}^\\dagger\\}\\hat{\\mathcal{R}}(\\theta)$ and $\\hat{b}_{\\mathcal{R}},\\hat{b}_{\\mathcal{R}}^\\dagger=\\sqrt{\\frac{\\tilde{\\omega}_b}{2}}\\left(\\hat{x}_b\\pm\\frac{\\text{i}}{\\tilde{\\omega}_b}\\hat{p}_b\\right)$ $\\rightarrow$ $\\hat{\\mathcal{R}}^\\dagger(\\theta)\\{\\hat{b}_{\\mathcal{R}},\\hat{b}_{\\mathcal{R}}^\\dagger\\}\\hat{\\mathcal{R}}(\\theta)$"
      ]
    },
    {
      "cell_type": "code",
      "metadata": {
        "id": "-lVQ6YEglMH0"
      },
      "source": [
        "a = BosonOp('\\hat{a}')\n",
        "ad = Dagger(a)\n",
        "b = BosonOp('\\hat{b}')\n",
        "bd = Dagger(b)"
      ],
      "execution_count": 14,
      "outputs": []
    },
    {
      "cell_type": "code",
      "metadata": {
        "id": "eqxy-S_vlUXp"
      },
      "source": [
        "u_1,u_2,u_3,u_4 = symbols('u_1,u_2,u_3,u_4',positive=True)\n",
        "v_1,v_2,v_3,v_4 = symbols('v_1,v_2,v_3,v_4',positive=True)\n",
        "tomega_a, tomega_b = symbols(r'\\tilde{\\omega}_a,\\tilde{\\omega}_b', positive=True)\n",
        "omega_a, omega_b = symbols('omega_a,omega_b', positive=True)"
      ],
      "execution_count": 15,
      "outputs": []
    },
    {
      "cell_type": "code",
      "metadata": {
        "colab": {
          "base_uri": "https://localhost:8080/",
          "height": 0
        },
        "id": "E8YhF1GhmR_z",
        "outputId": "135da84f-4a54-4ff0-eaff-73b8056d8286"
      },
      "source": [
        "XX_a = u_1*x_a+u_2*x_b\n",
        "XX_b = u_3*x_a+u_4*x_b\n",
        "PP_a = v_1*p_a+v_2*p_b\n",
        "PP_b = v_3*p_a+v_4*p_b\n",
        "XX_a,XX_b,PP_a,PP_b"
      ],
      "execution_count": 16,
      "outputs": [
        {
          "output_type": "execute_result",
          "data": {
            "image/png": "[encoded data removed]",
            "text/latex": "$\\displaystyle \\left( u_{1} \\hat{x}_a + u_{2} \\hat{x}_b, \\  u_{3} \\hat{x}_a + u_{4} \\hat{x}_b, \\  v_{1} \\hat{p}_a + v_{2} \\hat{p}_b, \\  v_{3} \\hat{p}_a + v_{4} \\hat{p}_b\\right)$",
            "text/plain": [
              "(u₁⋅\\hat{x}ₐ + u₂⋅\\hat{x}_b, u₃⋅\\hat{x}ₐ + u₄⋅\\hat{x}_b, v₁⋅\\hat{p}ₐ + v₂⋅\\hat\n",
              "{p}_b, v₃⋅\\hat{p}ₐ + v₄⋅\\hat{p}_b)"
            ]
          },
          "metadata": {},
          "execution_count": 16
        }
      ]
    },
    {
      "cell_type": "code",
      "metadata": {
        "colab": {
          "base_uri": "https://localhost:8080/",
          "height": 0
        },
        "id": "Q1pdEv9onYF7",
        "outputId": "141cdf89-006b-4b7d-a09f-f2c81b6f4ec9"
      },
      "source": [
        "eqx_a = 1/sqrt(2*omega_a)*(a+ad)\n",
        "eqx_b = 1/sqrt(2*omega_b)*(b+bd)\n",
        "eqp_a = I*sqrt(omega_a)/sqrt(2)*(ad-a)\n",
        "eqp_b = I*sqrt(omega_b)/sqrt(2)*(bd-b)\n",
        "#----------------\n",
        "eqx_a,eqx_b,eqp_a,eqp_b"
      ],
      "execution_count": 17,
      "outputs": [
        {
          "output_type": "execute_result",
          "data": {
            "image/png": "[encoded data removed]",
            "text/latex": "$\\displaystyle \\left( \\frac{\\sqrt{2} \\left({{\\hat{a}}^\\dagger} + {\\hat{a}}\\right)}{2 \\sqrt{\\omega_{a}}}, \\  \\frac{\\sqrt{2} \\left({{\\hat{b}}^\\dagger} + {\\hat{b}}\\right)}{2 \\sqrt{\\omega_{b}}}, \\  \\frac{\\sqrt{2} i \\sqrt{\\omega_{a}} \\left({{\\hat{a}}^\\dagger} - {\\hat{a}}\\right)}{2}, \\  \\frac{\\sqrt{2} i \\sqrt{\\omega_{b}} \\left({{\\hat{b}}^\\dagger} - {\\hat{b}}\\right)}{2}\\right)$",
            "text/plain": [
              "⎛   ⎛       †          ⎞     ⎛       †          ⎞         ____ ⎛       †      \n",
              "⎜√2⋅⎝\\hat{a}  + \\hat{a}⎠  √2⋅⎝\\hat{b}  + \\hat{b}⎠  √2⋅ⅈ⋅╲╱ ωₐ ⋅⎝\\hat{a}  - \\ha\n",
              "⎜───────────────────────, ───────────────────────, ───────────────────────────\n",
              "⎜            ____                    _____                        2           \n",
              "⎝        2⋅╲╱ ωₐ                 2⋅╲╱ ω_b                                     \n",
              "\n",
              "    ⎞         _____ ⎛       †          ⎞⎞\n",
              "t{a}⎠  √2⋅ⅈ⋅╲╱ ω_b ⋅⎝\\hat{b}  - \\hat{b}⎠⎟\n",
              "─────, ─────────────────────────────────⎟\n",
              "                       2                ⎟\n",
              "                                        ⎠"
            ]
          },
          "metadata": {},
          "execution_count": 17
        }
      ]
    },
    {
      "cell_type": "code",
      "metadata": {
        "colab": {
          "base_uri": "https://localhost:8080/",
          "height": 0
        },
        "id": "-UznOYZ0zSfO",
        "outputId": "6ce5b33a-f6fa-4477-8064-df6cb12eadc2"
      },
      "source": [
        "X_a = XX_a.subs({x_a:eqx_a,x_b:eqx_b})\n",
        "X_b = XX_b.subs({x_a:eqx_a,x_b:eqx_b})\n",
        "P_a = PP_a.subs({p_a:eqp_a,p_b:eqp_b})\n",
        "P_b = PP_b.subs({p_a:eqp_a,p_b:eqp_b})\n",
        "#-----------------\n",
        "X_a,X_b,P_a,P_b"
      ],
      "execution_count": 18,
      "outputs": [
        {
          "output_type": "execute_result",
          "data": {
            "image/png": "[encoded data removed]",
            "text/latex": "$\\displaystyle \\left( \\frac{\\sqrt{2} u_{2} \\left({{\\hat{b}}^\\dagger} + {\\hat{b}}\\right)}{2 \\sqrt{\\omega_{b}}} + \\frac{\\sqrt{2} u_{1} \\left({{\\hat{a}}^\\dagger} + {\\hat{a}}\\right)}{2 \\sqrt{\\omega_{a}}}, \\  \\frac{\\sqrt{2} u_{4} \\left({{\\hat{b}}^\\dagger} + {\\hat{b}}\\right)}{2 \\sqrt{\\omega_{b}}} + \\frac{\\sqrt{2} u_{3} \\left({{\\hat{a}}^\\dagger} + {\\hat{a}}\\right)}{2 \\sqrt{\\omega_{a}}}, \\  \\frac{\\sqrt{2} i \\sqrt{\\omega_{a}} v_{1} \\left({{\\hat{a}}^\\dagger} - {\\hat{a}}\\right)}{2} + \\frac{\\sqrt{2} i \\sqrt{\\omega_{b}} v_{2} \\left({{\\hat{b}}^\\dagger} - {\\hat{b}}\\right)}{2}, \\  \\frac{\\sqrt{2} i \\sqrt{\\omega_{a}} v_{3} \\left({{\\hat{a}}^\\dagger} - {\\hat{a}}\\right)}{2} + \\frac{\\sqrt{2} i \\sqrt{\\omega_{b}} v_{4} \\left({{\\hat{b}}^\\dagger} - {\\hat{b}}\\right)}{2}\\right)$",
            "text/plain": [
              "⎛      ⎛       †          ⎞         ⎛       †          ⎞        ⎛       †     \n",
              "⎜√2⋅u₂⋅⎝\\hat{b}  + \\hat{b}⎠   √2⋅u₁⋅⎝\\hat{a}  + \\hat{a}⎠  √2⋅u₄⋅⎝\\hat{b}  + \\h\n",
              "⎜────────────────────────── + ──────────────────────────, ────────────────────\n",
              "⎜            _____                         ____                       _____   \n",
              "⎝        2⋅╲╱ ω_b                      2⋅╲╱ ωₐ                    2⋅╲╱ ω_b    \n",
              "\n",
              "     ⎞         ⎛       †          ⎞         ____    ⎛       †          ⎞      \n",
              "at{b}⎠   √2⋅u₃⋅⎝\\hat{a}  + \\hat{a}⎠  √2⋅ⅈ⋅╲╱ ωₐ ⋅v₁⋅⎝\\hat{a}  - \\hat{a}⎠   √2⋅\n",
              "────── + ──────────────────────────, ─────────────────────────────────── + ───\n",
              "                      ____                            2                       \n",
              "                  2⋅╲╱ ωₐ                                                     \n",
              "\n",
              "    _____    ⎛       †          ⎞         ____    ⎛       †          ⎞        \n",
              "ⅈ⋅╲╱ ω_b ⋅v₂⋅⎝\\hat{b}  - \\hat{b}⎠  √2⋅ⅈ⋅╲╱ ωₐ ⋅v₃⋅⎝\\hat{a}  - \\hat{a}⎠   √2⋅ⅈ⋅\n",
              "─────────────────────────────────, ─────────────────────────────────── + ─────\n",
              "              2                                     2                         \n",
              "                                                                              \n",
              "\n",
              "  _____    ⎛       †          ⎞⎞\n",
              "╲╱ ω_b ⋅v₄⋅⎝\\hat{b}  - \\hat{b}⎠⎟\n",
              "───────────────────────────────⎟\n",
              "            2                  ⎟\n",
              "                               ⎠"
            ]
          },
          "metadata": {},
          "execution_count": 18
        }
      ]
    },
    {
      "cell_type": "code",
      "metadata": {
        "id": "uPz-M42Kz8RI"
      },
      "source": [
        "AA = expand(sqrt(tomega_a/2)*(X_a+I/tomega_a*P_a))\n",
        "AAd = expand(sqrt(tomega_a/2)*(X_a-I/tomega_a*P_a))\n",
        "BB = expand(sqrt(tomega_b/2)*(X_b+I/tomega_b*P_b))\n",
        "BBd = expand(sqrt(tomega_b/2)*(X_b-I/tomega_b*P_b))\n",
        "A = collect_coeff(AA,a)+collect_coeff(AA,ad)+collect_coeff(AA,b)+collect_coeff(AA,bd)\n",
        "Ad = collect_coeff(AAd,a)+collect_coeff(AAd,ad)+collect_coeff(AAd,b)+collect_coeff(AAd,bd)\n",
        "\n",
        "B = collect_coeff(BB,a)+collect_coeff(BB,ad)+collect_coeff(BB,b)+collect_coeff(BB,bd)\n",
        "Bd = collect_coeff(BBd,a)+collect_coeff(BBd,ad)+collect_coeff(BBd,b)+collect_coeff(BBd,bd)"
      ],
      "execution_count": 19,
      "outputs": []
    },
    {
      "cell_type": "code",
      "metadata": {
        "colab": {
          "base_uri": "https://localhost:8080/",
          "height": 0
        },
        "id": "Ace4VEhZ2LJC",
        "outputId": "00939217-ac5e-47ba-cc70-9709aee7c0ad"
      },
      "source": [
        "A,Ad"
      ],
      "execution_count": 20,
      "outputs": [
        {
          "output_type": "execute_result",
          "data": {
            "image/png": "[encoded data removed]",
            "text/latex": "$\\displaystyle \\left( \\left(\\frac{\\sqrt{\\tilde{\\omega}_a} u_{1}}{2 \\sqrt{\\omega_{a}}} - \\frac{\\sqrt{\\omega_{a}} v_{1}}{2 \\sqrt{\\tilde{\\omega}_a}}\\right) {{\\hat{a}}^\\dagger} + \\left(\\frac{\\sqrt{\\tilde{\\omega}_a} u_{1}}{2 \\sqrt{\\omega_{a}}} + \\frac{\\sqrt{\\omega_{a}} v_{1}}{2 \\sqrt{\\tilde{\\omega}_a}}\\right) {\\hat{a}} + \\left(\\frac{\\sqrt{\\tilde{\\omega}_a} u_{2}}{2 \\sqrt{\\omega_{b}}} - \\frac{\\sqrt{\\omega_{b}} v_{2}}{2 \\sqrt{\\tilde{\\omega}_a}}\\right) {{\\hat{b}}^\\dagger} + \\left(\\frac{\\sqrt{\\tilde{\\omega}_a} u_{2}}{2 \\sqrt{\\omega_{b}}} + \\frac{\\sqrt{\\omega_{b}} v_{2}}{2 \\sqrt{\\tilde{\\omega}_a}}\\right) {\\hat{b}}, \\  \\left(\\frac{\\sqrt{\\tilde{\\omega}_a} u_{1}}{2 \\sqrt{\\omega_{a}}} - \\frac{\\sqrt{\\omega_{a}} v_{1}}{2 \\sqrt{\\tilde{\\omega}_a}}\\right) {\\hat{a}} + \\left(\\frac{\\sqrt{\\tilde{\\omega}_a} u_{1}}{2 \\sqrt{\\omega_{a}}} + \\frac{\\sqrt{\\omega_{a}} v_{1}}{2 \\sqrt{\\tilde{\\omega}_a}}\\right) {{\\hat{a}}^\\dagger} + \\left(\\frac{\\sqrt{\\tilde{\\omega}_a} u_{2}}{2 \\sqrt{\\omega_{b}}} - \\frac{\\sqrt{\\omega_{b}} v_{2}}{2 \\sqrt{\\tilde{\\omega}_a}}\\right) {\\hat{b}} + \\left(\\frac{\\sqrt{\\tilde{\\omega}_a} u_{2}}{2 \\sqrt{\\omega_{b}}} + \\frac{\\sqrt{\\omega_{b}} v_{2}}{2 \\sqrt{\\tilde{\\omega}_a}}\\right) {{\\hat{b}}^\\dagger}\\right)$",
            "text/plain": [
              "⎛⎛  _________________              ____         ⎞            ⎛  ______________\n",
              "⎜⎜╲╱ \\tilde{\\omega}ₐ ⋅u₁         ╲╱ ωₐ ⋅v₁      ⎟        †   ⎜╲╱ \\tilde{\\omega\n",
              "⎜⎜────────────────────── - ─────────────────────⎟⋅\\hat{a}  + ⎜────────────────\n",
              "⎜⎜           ____              _________________⎟            ⎜           ____ \n",
              "⎝⎝       2⋅╲╱ ωₐ           2⋅╲╱ \\tilde{\\omega}ₐ ⎠            ⎝       2⋅╲╱ ωₐ  \n",
              "\n",
              "___              ____         ⎞           ⎛  _________________              __\n",
              "}ₐ ⋅u₁         ╲╱ ωₐ ⋅v₁      ⎟           ⎜╲╱ \\tilde{\\omega}ₐ ⋅u₂         ╲╱ ω\n",
              "────── + ─────────────────────⎟⋅\\hat{a} + ⎜────────────────────── - ──────────\n",
              "             _________________⎟           ⎜          _____              ______\n",
              "         2⋅╲╱ \\tilde{\\omega}ₐ ⎠           ⎝      2⋅╲╱ ω_b           2⋅╲╱ \\tild\n",
              "\n",
              "___        ⎞            ⎛  _________________              _____        ⎞      \n",
              "_b ⋅v₂     ⎟        †   ⎜╲╱ \\tilde{\\omega}ₐ ⋅u₂         ╲╱ ω_b ⋅v₂     ⎟      \n",
              "───────────⎟⋅\\hat{b}  + ⎜────────────────────── + ─────────────────────⎟⋅\\hat{\n",
              "___________⎟            ⎜          _____              _________________⎟      \n",
              "e{\\omega}ₐ ⎠            ⎝      2⋅╲╱ ω_b           2⋅╲╱ \\tilde{\\omega}ₐ ⎠      \n",
              "\n",
              "    ⎛  _________________              ____         ⎞           ⎛  ____________\n",
              "    ⎜╲╱ \\tilde{\\omega}ₐ ⋅u₁         ╲╱ ωₐ ⋅v₁      ⎟           ⎜╲╱ \\tilde{\\ome\n",
              "b}, ⎜────────────────────── - ─────────────────────⎟⋅\\hat{a} + ⎜──────────────\n",
              "    ⎜           ____              _________________⎟           ⎜           ___\n",
              "    ⎝       2⋅╲╱ ωₐ           2⋅╲╱ \\tilde{\\omega}ₐ ⎠           ⎝       2⋅╲╱ ωₐ\n",
              "\n",
              "_____              ____         ⎞            ⎛  _________________             \n",
              "ga}ₐ ⋅u₁         ╲╱ ωₐ ⋅v₁      ⎟        †   ⎜╲╱ \\tilde{\\omega}ₐ ⋅u₂         ╲\n",
              "──────── + ─────────────────────⎟⋅\\hat{a}  + ⎜────────────────────── - ───────\n",
              "_              _________________⎟            ⎜          _____              ___\n",
              "           2⋅╲╱ \\tilde{\\omega}ₐ ⎠            ⎝      2⋅╲╱ ω_b           2⋅╲╱ \\t\n",
              "\n",
              " _____        ⎞           ⎛  _________________              _____        ⎞    \n",
              "╱ ω_b ⋅v₂     ⎟           ⎜╲╱ \\tilde{\\omega}ₐ ⋅u₂         ╲╱ ω_b ⋅v₂     ⎟    \n",
              "──────────────⎟⋅\\hat{b} + ⎜────────────────────── + ─────────────────────⎟⋅\\ha\n",
              "______________⎟           ⎜          _____              _________________⎟    \n",
              "ilde{\\omega}ₐ ⎠           ⎝      2⋅╲╱ ω_b           2⋅╲╱ \\tilde{\\omega}ₐ ⎠    \n",
              "\n",
              "     ⎞\n",
              "    †⎟\n",
              "t{b} ⎟\n",
              "     ⎟\n",
              "     ⎠"
            ]
          },
          "metadata": {},
          "execution_count": 20
        }
      ]
    },
    {
      "cell_type": "code",
      "metadata": {
        "colab": {
          "base_uri": "https://localhost:8080/",
          "height": 0
        },
        "id": "27AWkV9s3Hip",
        "outputId": "4a06c285-0b8b-4db9-e839-fbdfe0629cb2"
      },
      "source": [
        "B,Bd"
      ],
      "execution_count": 21,
      "outputs": [
        {
          "output_type": "execute_result",
          "data": {
            "image/png": "[encoded data removed]",
            "text/latex": "$\\displaystyle \\left( \\left(\\frac{\\sqrt{\\tilde{\\omega}_b} u_{3}}{2 \\sqrt{\\omega_{a}}} - \\frac{\\sqrt{\\omega_{a}} v_{3}}{2 \\sqrt{\\tilde{\\omega}_b}}\\right) {{\\hat{a}}^\\dagger} + \\left(\\frac{\\sqrt{\\tilde{\\omega}_b} u_{3}}{2 \\sqrt{\\omega_{a}}} + \\frac{\\sqrt{\\omega_{a}} v_{3}}{2 \\sqrt{\\tilde{\\omega}_b}}\\right) {\\hat{a}} + \\left(\\frac{\\sqrt{\\tilde{\\omega}_b} u_{4}}{2 \\sqrt{\\omega_{b}}} - \\frac{\\sqrt{\\omega_{b}} v_{4}}{2 \\sqrt{\\tilde{\\omega}_b}}\\right) {{\\hat{b}}^\\dagger} + \\left(\\frac{\\sqrt{\\tilde{\\omega}_b} u_{4}}{2 \\sqrt{\\omega_{b}}} + \\frac{\\sqrt{\\omega_{b}} v_{4}}{2 \\sqrt{\\tilde{\\omega}_b}}\\right) {\\hat{b}}, \\  \\left(\\frac{\\sqrt{\\tilde{\\omega}_b} u_{3}}{2 \\sqrt{\\omega_{a}}} - \\frac{\\sqrt{\\omega_{a}} v_{3}}{2 \\sqrt{\\tilde{\\omega}_b}}\\right) {\\hat{a}} + \\left(\\frac{\\sqrt{\\tilde{\\omega}_b} u_{3}}{2 \\sqrt{\\omega_{a}}} + \\frac{\\sqrt{\\omega_{a}} v_{3}}{2 \\sqrt{\\tilde{\\omega}_b}}\\right) {{\\hat{a}}^\\dagger} + \\left(\\frac{\\sqrt{\\tilde{\\omega}_b} u_{4}}{2 \\sqrt{\\omega_{b}}} - \\frac{\\sqrt{\\omega_{b}} v_{4}}{2 \\sqrt{\\tilde{\\omega}_b}}\\right) {\\hat{b}} + \\left(\\frac{\\sqrt{\\tilde{\\omega}_b} u_{4}}{2 \\sqrt{\\omega_{b}}} + \\frac{\\sqrt{\\omega_{b}} v_{4}}{2 \\sqrt{\\tilde{\\omega}_b}}\\right) {{\\hat{b}}^\\dagger}\\right)$",
            "text/plain": [
              "⎛⎛  __________________              ____          ⎞            ⎛  ____________\n",
              "⎜⎜╲╱ \\tilde{\\omega}_b ⋅u₃         ╲╱ ωₐ ⋅v₃       ⎟        †   ⎜╲╱ \\tilde{\\ome\n",
              "⎜⎜─────────────────────── - ──────────────────────⎟⋅\\hat{a}  + ⎜──────────────\n",
              "⎜⎜            ____              __________________⎟            ⎜            __\n",
              "⎝⎝        2⋅╲╱ ωₐ           2⋅╲╱ \\tilde{\\omega}_b ⎠            ⎝        2⋅╲╱ ω\n",
              "\n",
              "______              ____          ⎞           ⎛  __________________           \n",
              "ga}_b ⋅u₃         ╲╱ ωₐ ⋅v₃       ⎟           ⎜╲╱ \\tilde{\\omega}_b ⋅u₄        \n",
              "───────── + ──────────────────────⎟⋅\\hat{a} + ⎜─────────────────────── - ─────\n",
              "__              __________________⎟           ⎜           _____              _\n",
              "ₐ           2⋅╲╱ \\tilde{\\omega}_b ⎠           ⎝       2⋅╲╱ ω_b           2⋅╲╱ \n",
              "\n",
              "   _____         ⎞            ⎛  __________________              _____        \n",
              " ╲╱ ω_b ⋅v₄      ⎟        †   ⎜╲╱ \\tilde{\\omega}_b ⋅u₄         ╲╱ ω_b ⋅v₄     \n",
              "─────────────────⎟⋅\\hat{b}  + ⎜─────────────────────── + ─────────────────────\n",
              "_________________⎟            ⎜           _____              _________________\n",
              "\\tilde{\\omega}_b ⎠            ⎝       2⋅╲╱ ω_b           2⋅╲╱ \\tilde{\\omega}_b\n",
              "\n",
              " ⎞          ⎛  __________________              ____          ⎞           ⎛  __\n",
              " ⎟          ⎜╲╱ \\tilde{\\omega}_b ⋅u₃         ╲╱ ωₐ ⋅v₃       ⎟           ⎜╲╱ \\\n",
              "─⎟⋅\\hat{b}, ⎜─────────────────────── - ──────────────────────⎟⋅\\hat{a} + ⎜────\n",
              "_⎟          ⎜            ____              __________________⎟           ⎜    \n",
              " ⎠          ⎝        2⋅╲╱ ωₐ           2⋅╲╱ \\tilde{\\omega}_b ⎠           ⎝    \n",
              "\n",
              "________________              ____          ⎞            ⎛  __________________\n",
              "tilde{\\omega}_b ⋅u₃         ╲╱ ωₐ ⋅v₃       ⎟        †   ⎜╲╱ \\tilde{\\omega}_b \n",
              "─────────────────── + ──────────────────────⎟⋅\\hat{a}  + ⎜────────────────────\n",
              "        ____              __________________⎟            ⎜           _____    \n",
              "    2⋅╲╱ ωₐ           2⋅╲╱ \\tilde{\\omega}_b ⎠            ⎝       2⋅╲╱ ω_b     \n",
              "\n",
              "              _____         ⎞           ⎛  __________________              ___\n",
              "⋅u₄         ╲╱ ω_b ⋅v₄      ⎟           ⎜╲╱ \\tilde{\\omega}_b ⋅u₄         ╲╱ ω_\n",
              "─── - ──────────────────────⎟⋅\\hat{b} + ⎜─────────────────────── + ───────────\n",
              "          __________________⎟           ⎜           _____              _______\n",
              "      2⋅╲╱ \\tilde{\\omega}_b ⎠           ⎝       2⋅╲╱ ω_b           2⋅╲╱ \\tilde\n",
              "\n",
              "__         ⎞         ⎞\n",
              "b ⋅v₄      ⎟        †⎟\n",
              "───────────⎟⋅\\hat{b} ⎟\n",
              "___________⎟         ⎟\n",
              "{\\omega}_b ⎠         ⎠"
            ]
          },
          "metadata": {},
          "execution_count": 21
        }
      ]
    },
    {
      "cell_type": "code",
      "metadata": {
        "colab": {
          "base_uri": "https://localhost:8080/"
        },
        "id": "_JEBRO0u3mo_",
        "outputId": "1403c33f-a194-4ea7-cb8f-095e5b82c211"
      },
      "source": [
        "Ad==Dagger(A), Bd==Dagger(B)"
      ],
      "execution_count": 22,
      "outputs": [
        {
          "output_type": "execute_result",
          "data": {
            "text/plain": [
              "(True, True)"
            ]
          },
          "metadata": {},
          "execution_count": 22
        }
      ]
    },
    {
      "cell_type": "code",
      "metadata": {
        "colab": {
          "base_uri": "https://localhost:8080/",
          "height": 0
        },
        "id": "MPcl1V7f4AYw",
        "outputId": "b3ff6785-f060-4198-a42b-d1c97b2d2171"
      },
      "source": [
        "b_theta = BCH(bd*b,b,I*theta)\n",
        "bd_theta = BCH(bd*b,bd,I*theta)\n",
        "b_theta,bd_theta"
      ],
      "execution_count": 23,
      "outputs": [
        {
          "output_type": "execute_result",
          "data": {
            "image/png": "[encoded data removed]",
            "text/latex": "$\\displaystyle \\left( e^{- i \\theta} {\\hat{b}}, \\  e^{i \\theta} {{\\hat{b}}^\\dagger}\\right)$",
            "text/plain": [
              "⎛ -ⅈ⋅θ           ⅈ⋅θ        †⎞\n",
              "⎝ℯ    ⋅\\hat{b}, ℯ   ⋅\\hat{b} ⎠"
            ]
          },
          "metadata": {},
          "execution_count": 23
        }
      ]
    },
    {
      "cell_type": "code",
      "metadata": {
        "colab": {
          "base_uri": "https://localhost:8080/",
          "height": 0
        },
        "id": "t5u6LS5g42hf",
        "outputId": "6d674d0d-3ad3-48fe-ea4e-b6e30dbbdeb2"
      },
      "source": [
        "b_theta_p = b_theta.subs({theta:pi/2})\n",
        "bd_theta_p = bd_theta.subs({theta:pi/2})\n",
        "#--------\n",
        "b_theta_p,bd_theta_p"
      ],
      "execution_count": 24,
      "outputs": [
        {
          "output_type": "execute_result",
          "data": {
            "image/png": "[encoded data removed]",
            "text/latex": "$\\displaystyle \\left( - i {\\hat{b}}, \\  i {{\\hat{b}}^\\dagger}\\right)$",
            "text/plain": [
              "⎛                     †⎞\n",
              "⎝-ⅈ⋅\\hat{b}, ⅈ⋅\\hat{b} ⎠"
            ]
          },
          "metadata": {},
          "execution_count": 24
        }
      ]
    },
    {
      "cell_type": "code",
      "metadata": {
        "colab": {
          "base_uri": "https://localhost:8080/",
          "height": 0
        },
        "id": "bHKQJmP54-nV",
        "outputId": "c08259b9-d521-4246-d397-b019200c0a28"
      },
      "source": [
        "a_f = A.subs({b:b_theta_p,bd:bd_theta_p})\n",
        "ad_f = Ad.subs({b:b_theta_p,bd:bd_theta_p})\n",
        "a_f"
      ],
      "execution_count": 25,
      "outputs": [
        {
          "output_type": "execute_result",
          "data": {
            "image/png": "[encoded data removed]",
            "text/latex": "$\\displaystyle \\left(\\frac{\\sqrt{\\tilde{\\omega}_a} u_{1}}{2 \\sqrt{\\omega_{a}}} - \\frac{\\sqrt{\\omega_{a}} v_{1}}{2 \\sqrt{\\tilde{\\omega}_a}}\\right) {{\\hat{a}}^\\dagger} + \\left(\\frac{\\sqrt{\\tilde{\\omega}_a} u_{1}}{2 \\sqrt{\\omega_{a}}} + \\frac{\\sqrt{\\omega_{a}} v_{1}}{2 \\sqrt{\\tilde{\\omega}_a}}\\right) {\\hat{a}} + i \\left(\\frac{\\sqrt{\\tilde{\\omega}_a} u_{2}}{2 \\sqrt{\\omega_{b}}} - \\frac{\\sqrt{\\omega_{b}} v_{2}}{2 \\sqrt{\\tilde{\\omega}_a}}\\right) {{\\hat{b}}^\\dagger} - i \\left(\\frac{\\sqrt{\\tilde{\\omega}_a} u_{2}}{2 \\sqrt{\\omega_{b}}} + \\frac{\\sqrt{\\omega_{b}} v_{2}}{2 \\sqrt{\\tilde{\\omega}_a}}\\right) {\\hat{b}}$",
            "text/plain": [
              "⎛  _________________              ____         ⎞            ⎛  _______________\n",
              "⎜╲╱ \\tilde{\\omega}ₐ ⋅u₁         ╲╱ ωₐ ⋅v₁      ⎟        †   ⎜╲╱ \\tilde{\\omega}\n",
              "⎜────────────────────── - ─────────────────────⎟⋅\\hat{a}  + ⎜─────────────────\n",
              "⎜           ____              _________________⎟            ⎜           ____  \n",
              "⎝       2⋅╲╱ ωₐ           2⋅╲╱ \\tilde{\\omega}ₐ ⎠            ⎝       2⋅╲╱ ωₐ   \n",
              "\n",
              "__              ____         ⎞             ⎛  _________________              _\n",
              "ₐ ⋅u₁         ╲╱ ωₐ ⋅v₁      ⎟             ⎜╲╱ \\tilde{\\omega}ₐ ⋅u₂         ╲╱ \n",
              "───── + ─────────────────────⎟⋅\\hat{a} + ⅈ⋅⎜────────────────────── - ─────────\n",
              "            _________________⎟             ⎜          _____              _____\n",
              "        2⋅╲╱ \\tilde{\\omega}ₐ ⎠             ⎝      2⋅╲╱ ω_b           2⋅╲╱ \\til\n",
              "\n",
              "____        ⎞              ⎛  _________________              _____        ⎞   \n",
              "ω_b ⋅v₂     ⎟        †     ⎜╲╱ \\tilde{\\omega}ₐ ⋅u₂         ╲╱ ω_b ⋅v₂     ⎟   \n",
              "────────────⎟⋅\\hat{b}  - ⅈ⋅⎜────────────────────── + ─────────────────────⎟⋅\\h\n",
              "____________⎟              ⎜          _____              _________________⎟   \n",
              "de{\\omega}ₐ ⎠              ⎝      2⋅╲╱ ω_b           2⋅╲╱ \\tilde{\\omega}ₐ ⎠   \n",
              "\n",
              "     \n",
              "     \n",
              "at{b}\n",
              "     \n",
              "     "
            ]
          },
          "metadata": {},
          "execution_count": 25
        }
      ]
    },
    {
      "cell_type": "code",
      "metadata": {
        "colab": {
          "base_uri": "https://localhost:8080/",
          "height": 0
        },
        "id": "oC79ar-KI27s",
        "outputId": "7e9903b8-daf0-4f38-b9a6-8aadcb7ffed8"
      },
      "source": [
        "ad_f"
      ],
      "execution_count": 26,
      "outputs": [
        {
          "output_type": "execute_result",
          "data": {
            "image/png": "[encoded data removed]",
            "text/latex": "$\\displaystyle \\left(\\frac{\\sqrt{\\tilde{\\omega}_a} u_{1}}{2 \\sqrt{\\omega_{a}}} - \\frac{\\sqrt{\\omega_{a}} v_{1}}{2 \\sqrt{\\tilde{\\omega}_a}}\\right) {\\hat{a}} + \\left(\\frac{\\sqrt{\\tilde{\\omega}_a} u_{1}}{2 \\sqrt{\\omega_{a}}} + \\frac{\\sqrt{\\omega_{a}} v_{1}}{2 \\sqrt{\\tilde{\\omega}_a}}\\right) {{\\hat{a}}^\\dagger} - i \\left(\\frac{\\sqrt{\\tilde{\\omega}_a} u_{2}}{2 \\sqrt{\\omega_{b}}} - \\frac{\\sqrt{\\omega_{b}} v_{2}}{2 \\sqrt{\\tilde{\\omega}_a}}\\right) {\\hat{b}} + i \\left(\\frac{\\sqrt{\\tilde{\\omega}_a} u_{2}}{2 \\sqrt{\\omega_{b}}} + \\frac{\\sqrt{\\omega_{b}} v_{2}}{2 \\sqrt{\\tilde{\\omega}_a}}\\right) {{\\hat{b}}^\\dagger}$",
            "text/plain": [
              "⎛  _________________              ____         ⎞           ⎛  ________________\n",
              "⎜╲╱ \\tilde{\\omega}ₐ ⋅u₁         ╲╱ ωₐ ⋅v₁      ⎟           ⎜╲╱ \\tilde{\\omega}ₐ\n",
              "⎜────────────────────── - ─────────────────────⎟⋅\\hat{a} + ⎜──────────────────\n",
              "⎜           ____              _________________⎟           ⎜           ____   \n",
              "⎝       2⋅╲╱ ωₐ           2⋅╲╱ \\tilde{\\omega}ₐ ⎠           ⎝       2⋅╲╱ ωₐ    \n",
              "\n",
              "_              ____         ⎞              ⎛  _________________              _\n",
              " ⋅u₁         ╲╱ ωₐ ⋅v₁      ⎟        †     ⎜╲╱ \\tilde{\\omega}ₐ ⋅u₂         ╲╱ \n",
              "──── + ─────────────────────⎟⋅\\hat{a}  - ⅈ⋅⎜────────────────────── - ─────────\n",
              "           _________________⎟              ⎜          _____              _____\n",
              "       2⋅╲╱ \\tilde{\\omega}ₐ ⎠              ⎝      2⋅╲╱ ω_b           2⋅╲╱ \\til\n",
              "\n",
              "____        ⎞             ⎛  _________________              _____        ⎞    \n",
              "ω_b ⋅v₂     ⎟             ⎜╲╱ \\tilde{\\omega}ₐ ⋅u₂         ╲╱ ω_b ⋅v₂     ⎟    \n",
              "────────────⎟⋅\\hat{b} + ⅈ⋅⎜────────────────────── + ─────────────────────⎟⋅\\ha\n",
              "____________⎟             ⎜          _____              _________________⎟    \n",
              "de{\\omega}ₐ ⎠             ⎝      2⋅╲╱ ω_b           2⋅╲╱ \\tilde{\\omega}ₐ ⎠    \n",
              "\n",
              "     \n",
              "    †\n",
              "t{b} \n",
              "     \n",
              "     "
            ]
          },
          "metadata": {},
          "execution_count": 26
        }
      ]
    },
    {
      "cell_type": "code",
      "metadata": {
        "colab": {
          "base_uri": "https://localhost:8080/",
          "height": 0
        },
        "id": "U_iNcUJk4_OH",
        "outputId": "352f1d74-72de-494d-9198-4767ace1d5ac"
      },
      "source": [
        "b_f = B.subs({b:b_theta_p,bd:bd_theta_p})\n",
        "bd_f = Bd.subs({b:b_theta_p,bd:bd_theta_p})\n",
        "b_f"
      ],
      "execution_count": 27,
      "outputs": [
        {
          "output_type": "execute_result",
          "data": {
            "image/png": "[encoded data removed]",
            "text/latex": "$\\displaystyle \\left(\\frac{\\sqrt{\\tilde{\\omega}_b} u_{3}}{2 \\sqrt{\\omega_{a}}} - \\frac{\\sqrt{\\omega_{a}} v_{3}}{2 \\sqrt{\\tilde{\\omega}_b}}\\right) {{\\hat{a}}^\\dagger} + \\left(\\frac{\\sqrt{\\tilde{\\omega}_b} u_{3}}{2 \\sqrt{\\omega_{a}}} + \\frac{\\sqrt{\\omega_{a}} v_{3}}{2 \\sqrt{\\tilde{\\omega}_b}}\\right) {\\hat{a}} + i \\left(\\frac{\\sqrt{\\tilde{\\omega}_b} u_{4}}{2 \\sqrt{\\omega_{b}}} - \\frac{\\sqrt{\\omega_{b}} v_{4}}{2 \\sqrt{\\tilde{\\omega}_b}}\\right) {{\\hat{b}}^\\dagger} - i \\left(\\frac{\\sqrt{\\tilde{\\omega}_b} u_{4}}{2 \\sqrt{\\omega_{b}}} + \\frac{\\sqrt{\\omega_{b}} v_{4}}{2 \\sqrt{\\tilde{\\omega}_b}}\\right) {\\hat{b}}$",
            "text/plain": [
              "⎛  __________________              ____          ⎞            ⎛  _____________\n",
              "⎜╲╱ \\tilde{\\omega}_b ⋅u₃         ╲╱ ωₐ ⋅v₃       ⎟        †   ⎜╲╱ \\tilde{\\omeg\n",
              "⎜─────────────────────── - ──────────────────────⎟⋅\\hat{a}  + ⎜───────────────\n",
              "⎜            ____              __________________⎟            ⎜            ___\n",
              "⎝        2⋅╲╱ ωₐ           2⋅╲╱ \\tilde{\\omega}_b ⎠            ⎝        2⋅╲╱ ωₐ\n",
              "\n",
              "_____              ____          ⎞             ⎛  __________________          \n",
              "a}_b ⋅u₃         ╲╱ ωₐ ⋅v₃       ⎟             ⎜╲╱ \\tilde{\\omega}_b ⋅u₄       \n",
              "──────── + ──────────────────────⎟⋅\\hat{a} + ⅈ⋅⎜─────────────────────── - ────\n",
              "_              __________________⎟             ⎜           _____              \n",
              "           2⋅╲╱ \\tilde{\\omega}_b ⎠             ⎝       2⋅╲╱ ω_b           2⋅╲╱\n",
              "\n",
              "    _____         ⎞              ⎛  __________________              _____     \n",
              "  ╲╱ ω_b ⋅v₄      ⎟        †     ⎜╲╱ \\tilde{\\omega}_b ⋅u₄         ╲╱ ω_b ⋅v₄  \n",
              "──────────────────⎟⋅\\hat{b}  - ⅈ⋅⎜─────────────────────── + ──────────────────\n",
              "__________________⎟              ⎜           _____              ______________\n",
              " \\tilde{\\omega}_b ⎠              ⎝       2⋅╲╱ ω_b           2⋅╲╱ \\tilde{\\omega\n",
              "\n",
              "    ⎞        \n",
              "    ⎟        \n",
              "────⎟⋅\\hat{b}\n",
              "____⎟        \n",
              "}_b ⎠        "
            ]
          },
          "metadata": {},
          "execution_count": 27
        }
      ]
    },
    {
      "cell_type": "code",
      "metadata": {
        "colab": {
          "base_uri": "https://localhost:8080/",
          "height": 0
        },
        "id": "D3qkad6xI6bF",
        "outputId": "954513f0-4d53-4d7b-b8e3-1425106a4be8"
      },
      "source": [
        "bd_f"
      ],
      "execution_count": 28,
      "outputs": [
        {
          "output_type": "execute_result",
          "data": {
            "image/png": "[encoded data removed]",
            "text/latex": "$\\displaystyle \\left(\\frac{\\sqrt{\\tilde{\\omega}_b} u_{3}}{2 \\sqrt{\\omega_{a}}} - \\frac{\\sqrt{\\omega_{a}} v_{3}}{2 \\sqrt{\\tilde{\\omega}_b}}\\right) {\\hat{a}} + \\left(\\frac{\\sqrt{\\tilde{\\omega}_b} u_{3}}{2 \\sqrt{\\omega_{a}}} + \\frac{\\sqrt{\\omega_{a}} v_{3}}{2 \\sqrt{\\tilde{\\omega}_b}}\\right) {{\\hat{a}}^\\dagger} - i \\left(\\frac{\\sqrt{\\tilde{\\omega}_b} u_{4}}{2 \\sqrt{\\omega_{b}}} - \\frac{\\sqrt{\\omega_{b}} v_{4}}{2 \\sqrt{\\tilde{\\omega}_b}}\\right) {\\hat{b}} + i \\left(\\frac{\\sqrt{\\tilde{\\omega}_b} u_{4}}{2 \\sqrt{\\omega_{b}}} + \\frac{\\sqrt{\\omega_{b}} v_{4}}{2 \\sqrt{\\tilde{\\omega}_b}}\\right) {{\\hat{b}}^\\dagger}$",
            "text/plain": [
              "⎛  __________________              ____          ⎞           ⎛  ______________\n",
              "⎜╲╱ \\tilde{\\omega}_b ⋅u₃         ╲╱ ωₐ ⋅v₃       ⎟           ⎜╲╱ \\tilde{\\omega\n",
              "⎜─────────────────────── - ──────────────────────⎟⋅\\hat{a} + ⎜────────────────\n",
              "⎜            ____              __________________⎟           ⎜            ____\n",
              "⎝        2⋅╲╱ ωₐ           2⋅╲╱ \\tilde{\\omega}_b ⎠           ⎝        2⋅╲╱ ωₐ \n",
              "\n",
              "____              ____          ⎞              ⎛  __________________          \n",
              "}_b ⋅u₃         ╲╱ ωₐ ⋅v₃       ⎟        †     ⎜╲╱ \\tilde{\\omega}_b ⋅u₄       \n",
              "─────── + ──────────────────────⎟⋅\\hat{a}  - ⅈ⋅⎜─────────────────────── - ────\n",
              "              __________________⎟              ⎜           _____              \n",
              "          2⋅╲╱ \\tilde{\\omega}_b ⎠              ⎝       2⋅╲╱ ω_b           2⋅╲╱\n",
              "\n",
              "    _____         ⎞             ⎛  __________________              _____      \n",
              "  ╲╱ ω_b ⋅v₄      ⎟             ⎜╲╱ \\tilde{\\omega}_b ⋅u₄         ╲╱ ω_b ⋅v₄   \n",
              "──────────────────⎟⋅\\hat{b} + ⅈ⋅⎜─────────────────────── + ───────────────────\n",
              "__________________⎟             ⎜           _____              _______________\n",
              " \\tilde{\\omega}_b ⎠             ⎝       2⋅╲╱ ω_b           2⋅╲╱ \\tilde{\\omega}\n",
              "\n",
              "   ⎞         \n",
              "   ⎟        †\n",
              "───⎟⋅\\hat{b} \n",
              "___⎟         \n",
              "_b ⎠         "
            ]
          },
          "metadata": {},
          "execution_count": 28
        }
      ]
    },
    {
      "cell_type": "code",
      "metadata": {
        "colab": {
          "base_uri": "https://localhost:8080/"
        },
        "id": "iaKwXrLJ7KeU",
        "outputId": "c5ac8249-2514-4e15-f99a-c43b3dda4418"
      },
      "source": [
        "ad_f==Dagger(a_f), bd_f==Dagger(b_f)"
      ],
      "execution_count": 29,
      "outputs": [
        {
          "output_type": "execute_result",
          "data": {
            "text/plain": [
              "(True, True)"
            ]
          },
          "metadata": {},
          "execution_count": 29
        }
      ]
    },
    {
      "cell_type": "code",
      "metadata": {
        "colab": {
          "base_uri": "https://localhost:8080/",
          "height": 0
        },
        "id": "oN5lcfODO-H7",
        "outputId": "aa2833ca-e508-45ee-b245-4a2571e56003"
      },
      "source": [
        "eqAA_f = expand(a_f.subs({u_1:equ_1,u_2:equ_2,v_1:eqv_1,v_2:eqv_2}))\n",
        "eqA_f = collect_coeff(eqAA_f,a)+collect_coeff(eqAA_f,ad)+collect_coeff(eqAA_f,b)+collect_coeff(eqAA_f,bd) \n",
        "eqA_f"
      ],
      "execution_count": 30,
      "outputs": [
        {
          "output_type": "execute_result",
          "data": {
            "image/png": "[encoded data removed]",
            "text/latex": "$\\displaystyle \\left(\\frac{\\sqrt{2} \\sqrt{\\tilde{\\omega}_a} \\cos{\\left(\\theta \\right)}}{4 \\sqrt{\\omega_{a}} \\sqrt{\\lambda_{2} + 1}} - \\frac{\\sqrt{2} \\sqrt{\\tilde{\\omega}_a} \\sin{\\left(\\theta \\right)}}{4 \\sqrt{\\omega_{a}} \\sqrt{1 - \\lambda_{2}}} - \\frac{\\sqrt{2} \\sqrt{\\omega_{a}} \\sqrt{1 - \\lambda_{2}} \\sin{\\left(\\theta \\right)}}{4 \\sqrt{\\tilde{\\omega}_a}} + \\frac{\\sqrt{2} \\sqrt{\\omega_{a}} \\sqrt{\\lambda_{2} + 1} \\cos{\\left(\\theta \\right)}}{4 \\sqrt{\\tilde{\\omega}_a}}\\right) {\\hat{a}} + \\left(\\frac{\\sqrt{2} \\sqrt{\\tilde{\\omega}_a} \\cos{\\left(\\theta \\right)}}{4 \\sqrt{\\omega_{a}} \\sqrt{\\lambda_{2} + 1}} - \\frac{\\sqrt{2} \\sqrt{\\tilde{\\omega}_a} \\sin{\\left(\\theta \\right)}}{4 \\sqrt{\\omega_{a}} \\sqrt{1 - \\lambda_{2}}} + \\frac{\\sqrt{2} \\sqrt{\\omega_{a}} \\sqrt{1 - \\lambda_{2}} \\sin{\\left(\\theta \\right)}}{4 \\sqrt{\\tilde{\\omega}_a}} - \\frac{\\sqrt{2} \\sqrt{\\omega_{a}} \\sqrt{\\lambda_{2} + 1} \\cos{\\left(\\theta \\right)}}{4 \\sqrt{\\tilde{\\omega}_a}}\\right) {{\\hat{a}}^\\dagger} + \\left(- \\frac{\\sqrt{2} i \\sqrt{\\tilde{\\omega}_a} \\cos{\\left(\\theta \\right)}}{4 \\sqrt{\\omega_{b}} \\sqrt{\\lambda_{2} + 1}} - \\frac{\\sqrt{2} i \\sqrt{\\tilde{\\omega}_a} \\sin{\\left(\\theta \\right)}}{4 \\sqrt{\\omega_{b}} \\sqrt{1 - \\lambda_{2}}} - \\frac{\\sqrt{2} i \\sqrt{\\omega_{b}} \\sqrt{1 - \\lambda_{2}} \\sin{\\left(\\theta \\right)}}{4 \\sqrt{\\tilde{\\omega}_a}} - \\frac{\\sqrt{2} i \\sqrt{\\omega_{b}} \\sqrt{\\lambda_{2} + 1} \\cos{\\left(\\theta \\right)}}{4 \\sqrt{\\tilde{\\omega}_a}}\\right) {\\hat{b}} + \\left(\\frac{\\sqrt{2} i \\sqrt{\\tilde{\\omega}_a} \\cos{\\left(\\theta \\right)}}{4 \\sqrt{\\omega_{b}} \\sqrt{\\lambda_{2} + 1}} + \\frac{\\sqrt{2} i \\sqrt{\\tilde{\\omega}_a} \\sin{\\left(\\theta \\right)}}{4 \\sqrt{\\omega_{b}} \\sqrt{1 - \\lambda_{2}}} - \\frac{\\sqrt{2} i \\sqrt{\\omega_{b}} \\sqrt{1 - \\lambda_{2}} \\sin{\\left(\\theta \\right)}}{4 \\sqrt{\\tilde{\\omega}_a}} - \\frac{\\sqrt{2} i \\sqrt{\\omega_{b}} \\sqrt{\\lambda_{2} + 1} \\cos{\\left(\\theta \\right)}}{4 \\sqrt{\\tilde{\\omega}_a}}\\right) {{\\hat{b}}^\\dagger}$",
            "text/plain": [
              "⎛     _________________               _________________               ____   _\n",
              "⎜√2⋅╲╱ \\tilde{\\omega}ₐ ⋅cos(θ)   √2⋅╲╱ \\tilde{\\omega}ₐ ⋅sin(θ)   √2⋅╲╱ ωₐ ⋅╲╱ \n",
              "⎜───────────────────────────── - ───────────────────────────── - ─────────────\n",
              "⎜         ____   ________                 ____   ________               ______\n",
              "⎝     4⋅╲╱ ωₐ ⋅╲╱ λ₂ + 1              4⋅╲╱ ωₐ ⋅╲╱ 1 - λ₂            4⋅╲╱ \\tild\n",
              "\n",
              "_______               ____   ________       ⎞           ⎛     ________________\n",
              "1 - λ₂ ⋅sin(θ)   √2⋅╲╱ ωₐ ⋅╲╱ λ₂ + 1 ⋅cos(θ)⎟           ⎜√2⋅╲╱ \\tilde{\\omega}ₐ\n",
              "────────────── + ───────────────────────────⎟⋅\\hat{a} + ⎜─────────────────────\n",
              "___________             _________________   ⎟           ⎜         ____   _____\n",
              "e{\\omega}ₐ          4⋅╲╱ \\tilde{\\omega}ₐ    ⎠           ⎝     4⋅╲╱ ωₐ ⋅╲╱ λ₂ +\n",
              "\n",
              "_               _________________               ____   ________               \n",
              " ⋅cos(θ)   √2⋅╲╱ \\tilde{\\omega}ₐ ⋅sin(θ)   √2⋅╲╱ ωₐ ⋅╲╱ 1 - λ₂ ⋅sin(θ)   √2⋅╲╱\n",
              "──────── - ───────────────────────────── + ─────────────────────────── - ─────\n",
              "___                 ____   ________               _________________           \n",
              " 1              4⋅╲╱ ωₐ ⋅╲╱ 1 - λ₂            4⋅╲╱ \\tilde{\\omega}ₐ          4⋅\n",
              "\n",
              "____   ________       ⎞            ⎛         _________________                \n",
              " ωₐ ⋅╲╱ λ₂ + 1 ⋅cos(θ)⎟        †   ⎜  √2⋅ⅈ⋅╲╱ \\tilde{\\omega}ₐ ⋅cos(θ)   √2⋅ⅈ⋅╲\n",
              "──────────────────────⎟⋅\\hat{a}  + ⎜- ─────────────────────────────── - ──────\n",
              "  _________________   ⎟            ⎜            _____   ________              \n",
              "╲╱ \\tilde{\\omega}ₐ    ⎠            ⎝        4⋅╲╱ ω_b ⋅╲╱ λ₂ + 1               \n",
              "\n",
              " _________________                 _____   ________                 _____   __\n",
              "╱ \\tilde{\\omega}ₐ ⋅sin(θ)   √2⋅ⅈ⋅╲╱ ω_b ⋅╲╱ 1 - λ₂ ⋅sin(θ)   √2⋅ⅈ⋅╲╱ ω_b ⋅╲╱ λ\n",
              "───────────────────────── - ────────────────────────────── - ─────────────────\n",
              "    _____   ________                _________________                _________\n",
              "4⋅╲╱ ω_b ⋅╲╱ 1 - λ₂             4⋅╲╱ \\tilde{\\omega}ₐ             4⋅╲╱ \\tilde{\\\n",
              "\n",
              "______       ⎞           ⎛       _________________                 ___________\n",
              "₂ + 1 ⋅cos(θ)⎟           ⎜√2⋅ⅈ⋅╲╱ \\tilde{\\omega}ₐ ⋅cos(θ)   √2⋅ⅈ⋅╲╱ \\tilde{\\om\n",
              "─────────────⎟⋅\\hat{b} + ⎜─────────────────────────────── + ──────────────────\n",
              "________     ⎟           ⎜          _____   ________                  _____   \n",
              "omega}ₐ      ⎠           ⎝      4⋅╲╱ ω_b ⋅╲╱ λ₂ + 1               4⋅╲╱ ω_b ⋅╲╱\n",
              "\n",
              "______                 _____   ________                 _____   ________      \n",
              "ega}ₐ ⋅sin(θ)   √2⋅ⅈ⋅╲╱ ω_b ⋅╲╱ 1 - λ₂ ⋅sin(θ)   √2⋅ⅈ⋅╲╱ ω_b ⋅╲╱ λ₂ + 1 ⋅cos(θ\n",
              "───────────── - ────────────────────────────── - ─────────────────────────────\n",
              "________                _________________                _________________    \n",
              " 1 - λ₂             4⋅╲╱ \\tilde{\\omega}ₐ             4⋅╲╱ \\tilde{\\omega}ₐ     \n",
              "\n",
              " ⎞         \n",
              ")⎟        †\n",
              "─⎟⋅\\hat{b} \n",
              " ⎟         \n",
              " ⎠         "
            ]
          },
          "metadata": {},
          "execution_count": 30
        }
      ]
    },
    {
      "cell_type": "code",
      "metadata": {
        "colab": {
          "base_uri": "https://localhost:8080/",
          "height": 0
        },
        "id": "g9y5RUO0S06s",
        "outputId": "9a2d48c4-dd14-44c5-85d6-d79eaa23624e"
      },
      "source": [
        "eqAAd_f = expand(ad_f.subs({u_1:equ_1,u_2:equ_2,v_1:eqv_1,v_2:eqv_2}))\n",
        "eqAd_f = collect_coeff(eqAAd_f,a)+collect_coeff(eqAAd_f,ad)+collect_coeff(eqAAd_f,b)+collect_coeff(eqAAd_f,bd) \n",
        "eqAd_f"
      ],
      "execution_count": 31,
      "outputs": [
        {
          "output_type": "execute_result",
          "data": {
            "image/png": "[encoded data removed]",
            "text/latex": "$\\displaystyle \\left(\\frac{\\sqrt{2} \\sqrt{\\tilde{\\omega}_a} \\cos{\\left(\\theta \\right)}}{4 \\sqrt{\\omega_{a}} \\sqrt{\\lambda_{2} + 1}} - \\frac{\\sqrt{2} \\sqrt{\\tilde{\\omega}_a} \\sin{\\left(\\theta \\right)}}{4 \\sqrt{\\omega_{a}} \\sqrt{1 - \\lambda_{2}}} - \\frac{\\sqrt{2} \\sqrt{\\omega_{a}} \\sqrt{1 - \\lambda_{2}} \\sin{\\left(\\theta \\right)}}{4 \\sqrt{\\tilde{\\omega}_a}} + \\frac{\\sqrt{2} \\sqrt{\\omega_{a}} \\sqrt{\\lambda_{2} + 1} \\cos{\\left(\\theta \\right)}}{4 \\sqrt{\\tilde{\\omega}_a}}\\right) {{\\hat{a}}^\\dagger} + \\left(\\frac{\\sqrt{2} \\sqrt{\\tilde{\\omega}_a} \\cos{\\left(\\theta \\right)}}{4 \\sqrt{\\omega_{a}} \\sqrt{\\lambda_{2} + 1}} - \\frac{\\sqrt{2} \\sqrt{\\tilde{\\omega}_a} \\sin{\\left(\\theta \\right)}}{4 \\sqrt{\\omega_{a}} \\sqrt{1 - \\lambda_{2}}} + \\frac{\\sqrt{2} \\sqrt{\\omega_{a}} \\sqrt{1 - \\lambda_{2}} \\sin{\\left(\\theta \\right)}}{4 \\sqrt{\\tilde{\\omega}_a}} - \\frac{\\sqrt{2} \\sqrt{\\omega_{a}} \\sqrt{\\lambda_{2} + 1} \\cos{\\left(\\theta \\right)}}{4 \\sqrt{\\tilde{\\omega}_a}}\\right) {\\hat{a}} + \\left(- \\frac{\\sqrt{2} i \\sqrt{\\tilde{\\omega}_a} \\cos{\\left(\\theta \\right)}}{4 \\sqrt{\\omega_{b}} \\sqrt{\\lambda_{2} + 1}} - \\frac{\\sqrt{2} i \\sqrt{\\tilde{\\omega}_a} \\sin{\\left(\\theta \\right)}}{4 \\sqrt{\\omega_{b}} \\sqrt{1 - \\lambda_{2}}} + \\frac{\\sqrt{2} i \\sqrt{\\omega_{b}} \\sqrt{1 - \\lambda_{2}} \\sin{\\left(\\theta \\right)}}{4 \\sqrt{\\tilde{\\omega}_a}} + \\frac{\\sqrt{2} i \\sqrt{\\omega_{b}} \\sqrt{\\lambda_{2} + 1} \\cos{\\left(\\theta \\right)}}{4 \\sqrt{\\tilde{\\omega}_a}}\\right) {\\hat{b}} + \\left(\\frac{\\sqrt{2} i \\sqrt{\\tilde{\\omega}_a} \\cos{\\left(\\theta \\right)}}{4 \\sqrt{\\omega_{b}} \\sqrt{\\lambda_{2} + 1}} + \\frac{\\sqrt{2} i \\sqrt{\\tilde{\\omega}_a} \\sin{\\left(\\theta \\right)}}{4 \\sqrt{\\omega_{b}} \\sqrt{1 - \\lambda_{2}}} + \\frac{\\sqrt{2} i \\sqrt{\\omega_{b}} \\sqrt{1 - \\lambda_{2}} \\sin{\\left(\\theta \\right)}}{4 \\sqrt{\\tilde{\\omega}_a}} + \\frac{\\sqrt{2} i \\sqrt{\\omega_{b}} \\sqrt{\\lambda_{2} + 1} \\cos{\\left(\\theta \\right)}}{4 \\sqrt{\\tilde{\\omega}_a}}\\right) {{\\hat{b}}^\\dagger}$",
            "text/plain": [
              "⎛     _________________               _________________               ____   _\n",
              "⎜√2⋅╲╱ \\tilde{\\omega}ₐ ⋅cos(θ)   √2⋅╲╱ \\tilde{\\omega}ₐ ⋅sin(θ)   √2⋅╲╱ ωₐ ⋅╲╱ \n",
              "⎜───────────────────────────── - ───────────────────────────── - ─────────────\n",
              "⎜         ____   ________                 ____   ________               ______\n",
              "⎝     4⋅╲╱ ωₐ ⋅╲╱ λ₂ + 1              4⋅╲╱ ωₐ ⋅╲╱ 1 - λ₂            4⋅╲╱ \\tild\n",
              "\n",
              "_______               ____   ________       ⎞            ⎛     _______________\n",
              "1 - λ₂ ⋅sin(θ)   √2⋅╲╱ ωₐ ⋅╲╱ λ₂ + 1 ⋅cos(θ)⎟        †   ⎜√2⋅╲╱ \\tilde{\\omega}\n",
              "────────────── + ───────────────────────────⎟⋅\\hat{a}  + ⎜────────────────────\n",
              "___________             _________________   ⎟            ⎜         ____   ____\n",
              "e{\\omega}ₐ          4⋅╲╱ \\tilde{\\omega}ₐ    ⎠            ⎝     4⋅╲╱ ωₐ ⋅╲╱ λ₂ \n",
              "\n",
              "__               _________________               ____   ________              \n",
              "ₐ ⋅cos(θ)   √2⋅╲╱ \\tilde{\\omega}ₐ ⋅sin(θ)   √2⋅╲╱ ωₐ ⋅╲╱ 1 - λ₂ ⋅sin(θ)   √2⋅╲\n",
              "───────── - ───────────────────────────── + ─────────────────────────── - ────\n",
              "____                 ____   ________               _________________          \n",
              "+ 1              4⋅╲╱ ωₐ ⋅╲╱ 1 - λ₂            4⋅╲╱ \\tilde{\\omega}ₐ          4\n",
              "\n",
              " ____   ________       ⎞           ⎛         _________________                \n",
              "╱ ωₐ ⋅╲╱ λ₂ + 1 ⋅cos(θ)⎟           ⎜  √2⋅ⅈ⋅╲╱ \\tilde{\\omega}ₐ ⋅cos(θ)   √2⋅ⅈ⋅╲\n",
              "───────────────────────⎟⋅\\hat{a} + ⎜- ─────────────────────────────── - ──────\n",
              "   _________________   ⎟           ⎜            _____   ________              \n",
              "⋅╲╱ \\tilde{\\omega}ₐ    ⎠           ⎝        4⋅╲╱ ω_b ⋅╲╱ λ₂ + 1               \n",
              "\n",
              " _________________                 _____   ________                 _____   __\n",
              "╱ \\tilde{\\omega}ₐ ⋅sin(θ)   √2⋅ⅈ⋅╲╱ ω_b ⋅╲╱ 1 - λ₂ ⋅sin(θ)   √2⋅ⅈ⋅╲╱ ω_b ⋅╲╱ λ\n",
              "───────────────────────── + ────────────────────────────── + ─────────────────\n",
              "    _____   ________                _________________                _________\n",
              "4⋅╲╱ ω_b ⋅╲╱ 1 - λ₂             4⋅╲╱ \\tilde{\\omega}ₐ             4⋅╲╱ \\tilde{\\\n",
              "\n",
              "______       ⎞           ⎛       _________________                 ___________\n",
              "₂ + 1 ⋅cos(θ)⎟           ⎜√2⋅ⅈ⋅╲╱ \\tilde{\\omega}ₐ ⋅cos(θ)   √2⋅ⅈ⋅╲╱ \\tilde{\\om\n",
              "─────────────⎟⋅\\hat{b} + ⎜─────────────────────────────── + ──────────────────\n",
              "________     ⎟           ⎜          _____   ________                  _____   \n",
              "omega}ₐ      ⎠           ⎝      4⋅╲╱ ω_b ⋅╲╱ λ₂ + 1               4⋅╲╱ ω_b ⋅╲╱\n",
              "\n",
              "______                 _____   ________                 _____   ________      \n",
              "ega}ₐ ⋅sin(θ)   √2⋅ⅈ⋅╲╱ ω_b ⋅╲╱ 1 - λ₂ ⋅sin(θ)   √2⋅ⅈ⋅╲╱ ω_b ⋅╲╱ λ₂ + 1 ⋅cos(θ\n",
              "───────────── + ────────────────────────────── + ─────────────────────────────\n",
              "________                _________________                _________________    \n",
              " 1 - λ₂             4⋅╲╱ \\tilde{\\omega}ₐ             4⋅╲╱ \\tilde{\\omega}ₐ     \n",
              "\n",
              " ⎞         \n",
              ")⎟        †\n",
              "─⎟⋅\\hat{b} \n",
              " ⎟         \n",
              " ⎠         "
            ]
          },
          "metadata": {},
          "execution_count": 31
        }
      ]
    },
    {
      "cell_type": "code",
      "metadata": {
        "colab": {
          "base_uri": "https://localhost:8080/"
        },
        "id": "NFe9LXJ9am30",
        "outputId": "76e5b4a3-c90b-4bca-f010-695eaac77c69"
      },
      "source": [
        "eqA_f.coeff(a)==eqAd_f.coeff(ad), eqA_f.coeff(ad)==eqAd_f.coeff(a), eqA_f.coeff(b)==-eqAd_f.coeff(bd), eqA_f.coeff(bd)==-eqAd_f.coeff(b)"
      ],
      "execution_count": 32,
      "outputs": [
        {
          "output_type": "execute_result",
          "data": {
            "text/plain": [
              "(True, True, True, True)"
            ]
          },
          "metadata": {},
          "execution_count": 32
        }
      ]
    },
    {
      "cell_type": "code",
      "metadata": {
        "colab": {
          "base_uri": "https://localhost:8080/",
          "height": 0
        },
        "id": "ExdFpyMCYeEu",
        "outputId": "433e2a0a-8a0a-4ed6-bf48-a4d01da78d5e"
      },
      "source": [
        "eqBB_f = expand(b_f.subs({u_3:equ_3,u_4:equ_4,v_3:eqv_3,v_4:eqv_4}))\n",
        "eqB_f = collect_coeff(eqBB_f,a)+collect_coeff(eqBB_f,ad)+collect_coeff(eqBB_f,b)+collect_coeff(eqBB_f,bd) \n",
        "eqB_f"
      ],
      "execution_count": 33,
      "outputs": [
        {
          "output_type": "execute_result",
          "data": {
            "image/png": "[encoded data removed]",
            "text/latex": "$\\displaystyle \\left(- \\frac{\\sqrt{2} \\sqrt{\\tilde{\\omega}_b} \\sin{\\left(\\theta \\right)}}{4 \\sqrt{\\omega_{a}} \\sqrt{\\lambda_{2} + 1}} - \\frac{\\sqrt{2} \\sqrt{\\tilde{\\omega}_b} \\cos{\\left(\\theta \\right)}}{4 \\sqrt{\\omega_{a}} \\sqrt{1 - \\lambda_{2}}} - \\frac{\\sqrt{2} \\sqrt{\\omega_{a}} \\sqrt{1 - \\lambda_{2}} \\cos{\\left(\\theta \\right)}}{4 \\sqrt{\\tilde{\\omega}_b}} - \\frac{\\sqrt{2} \\sqrt{\\omega_{a}} \\sqrt{\\lambda_{2} + 1} \\sin{\\left(\\theta \\right)}}{4 \\sqrt{\\tilde{\\omega}_b}}\\right) {\\hat{a}} + \\left(- \\frac{\\sqrt{2} \\sqrt{\\tilde{\\omega}_b} \\sin{\\left(\\theta \\right)}}{4 \\sqrt{\\omega_{a}} \\sqrt{\\lambda_{2} + 1}} - \\frac{\\sqrt{2} \\sqrt{\\tilde{\\omega}_b} \\cos{\\left(\\theta \\right)}}{4 \\sqrt{\\omega_{a}} \\sqrt{1 - \\lambda_{2}}} + \\frac{\\sqrt{2} \\sqrt{\\omega_{a}} \\sqrt{1 - \\lambda_{2}} \\cos{\\left(\\theta \\right)}}{4 \\sqrt{\\tilde{\\omega}_b}} + \\frac{\\sqrt{2} \\sqrt{\\omega_{a}} \\sqrt{\\lambda_{2} + 1} \\sin{\\left(\\theta \\right)}}{4 \\sqrt{\\tilde{\\omega}_b}}\\right) {{\\hat{a}}^\\dagger} + \\left(- \\frac{\\sqrt{2} i \\sqrt{\\tilde{\\omega}_b} \\sin{\\left(\\theta \\right)}}{4 \\sqrt{\\omega_{b}} \\sqrt{\\lambda_{2} + 1}} + \\frac{\\sqrt{2} i \\sqrt{\\tilde{\\omega}_b} \\cos{\\left(\\theta \\right)}}{4 \\sqrt{\\omega_{b}} \\sqrt{1 - \\lambda_{2}}} - \\frac{\\sqrt{2} i \\sqrt{\\omega_{b}} \\sqrt{1 - \\lambda_{2}} \\cos{\\left(\\theta \\right)}}{4 \\sqrt{\\tilde{\\omega}_b}} + \\frac{\\sqrt{2} i \\sqrt{\\omega_{b}} \\sqrt{\\lambda_{2} + 1} \\sin{\\left(\\theta \\right)}}{4 \\sqrt{\\tilde{\\omega}_b}}\\right) {{\\hat{b}}^\\dagger} + \\left(\\frac{\\sqrt{2} i \\sqrt{\\tilde{\\omega}_b} \\sin{\\left(\\theta \\right)}}{4 \\sqrt{\\omega_{b}} \\sqrt{\\lambda_{2} + 1}} - \\frac{\\sqrt{2} i \\sqrt{\\tilde{\\omega}_b} \\cos{\\left(\\theta \\right)}}{4 \\sqrt{\\omega_{b}} \\sqrt{1 - \\lambda_{2}}} - \\frac{\\sqrt{2} i \\sqrt{\\omega_{b}} \\sqrt{1 - \\lambda_{2}} \\cos{\\left(\\theta \\right)}}{4 \\sqrt{\\tilde{\\omega}_b}} + \\frac{\\sqrt{2} i \\sqrt{\\omega_{b}} \\sqrt{\\lambda_{2} + 1} \\sin{\\left(\\theta \\right)}}{4 \\sqrt{\\tilde{\\omega}_b}}\\right) {\\hat{b}}$",
            "text/plain": [
              "⎛       __________________               __________________               ____\n",
              "⎜  √2⋅╲╱ \\tilde{\\omega}_b ⋅sin(θ)   √2⋅╲╱ \\tilde{\\omega}_b ⋅cos(θ)   √2⋅╲╱ ωₐ \n",
              "⎜- ────────────────────────────── - ────────────────────────────── - ─────────\n",
              "⎜           ____   ________                  ____   ________                __\n",
              "⎝       4⋅╲╱ ωₐ ⋅╲╱ λ₂ + 1               4⋅╲╱ ωₐ ⋅╲╱ 1 - λ₂             4⋅╲╱ \\\n",
              "\n",
              "   ________               ____   ________       ⎞           ⎛       __________\n",
              "⋅╲╱ 1 - λ₂ ⋅cos(θ)   √2⋅╲╱ ωₐ ⋅╲╱ λ₂ + 1 ⋅sin(θ)⎟           ⎜  √2⋅╲╱ \\tilde{\\o\n",
              "────────────────── - ───────────────────────────⎟⋅\\hat{a} + ⎜- ───────────────\n",
              "________________            __________________  ⎟           ⎜           ____  \n",
              "tilde{\\omega}_b         4⋅╲╱ \\tilde{\\omega}_b   ⎠           ⎝       4⋅╲╱ ωₐ ⋅╲\n",
              "\n",
              "________               __________________               ____   ________       \n",
              "mega}_b ⋅sin(θ)   √2⋅╲╱ \\tilde{\\omega}_b ⋅cos(θ)   √2⋅╲╱ ωₐ ⋅╲╱ 1 - λ₂ ⋅cos(θ)\n",
              "─────────────── - ────────────────────────────── + ───────────────────────────\n",
              " ________                  ____   ________                __________________  \n",
              "╱ λ₂ + 1               4⋅╲╱ ωₐ ⋅╲╱ 1 - λ₂             4⋅╲╱ \\tilde{\\omega}_b   \n",
              "\n",
              "        ____   ________       ⎞            ⎛         __________________       \n",
              "   √2⋅╲╱ ωₐ ⋅╲╱ λ₂ + 1 ⋅sin(θ)⎟        †   ⎜  √2⋅ⅈ⋅╲╱ \\tilde{\\omega}_b ⋅sin(θ)\n",
              " + ───────────────────────────⎟⋅\\hat{a}  + ⎜- ────────────────────────────────\n",
              "          __________________  ⎟            ⎜            _____   ________      \n",
              "      4⋅╲╱ \\tilde{\\omega}_b   ⎠            ⎝        4⋅╲╱ ω_b ⋅╲╱ λ₂ + 1       \n",
              "\n",
              "          __________________                 _____   ________                 \n",
              "   √2⋅ⅈ⋅╲╱ \\tilde{\\omega}_b ⋅cos(θ)   √2⋅ⅈ⋅╲╱ ω_b ⋅╲╱ 1 - λ₂ ⋅cos(θ)   √2⋅ⅈ⋅╲╱\n",
              " + ──────────────────────────────── - ────────────────────────────── + ───────\n",
              "             _____   ________                 __________________              \n",
              "         4⋅╲╱ ω_b ⋅╲╱ 1 - λ₂              4⋅╲╱ \\tilde{\\omega}_b            4⋅╲\n",
              "\n",
              "_____   ________       ⎞            ⎛       __________________                \n",
              " ω_b ⋅╲╱ λ₂ + 1 ⋅sin(θ)⎟        †   ⎜√2⋅ⅈ⋅╲╱ \\tilde{\\omega}_b ⋅sin(θ)   √2⋅ⅈ⋅╲\n",
              "───────────────────────⎟⋅\\hat{b}  + ⎜──────────────────────────────── - ──────\n",
              " __________________    ⎟            ⎜          _____   ________               \n",
              "╱ \\tilde{\\omega}_b     ⎠            ⎝      4⋅╲╱ ω_b ⋅╲╱ λ₂ + 1                \n",
              "\n",
              " __________________                 _____   ________                 _____   _\n",
              "╱ \\tilde{\\omega}_b ⋅cos(θ)   √2⋅ⅈ⋅╲╱ ω_b ⋅╲╱ 1 - λ₂ ⋅cos(θ)   √2⋅ⅈ⋅╲╱ ω_b ⋅╲╱ \n",
              "────────────────────────── - ────────────────────────────── + ────────────────\n",
              "    _____   ________                 __________________               ________\n",
              "4⋅╲╱ ω_b ⋅╲╱ 1 - λ₂              4⋅╲╱ \\tilde{\\omega}_b            4⋅╲╱ \\tilde{\n",
              "\n",
              "_______       ⎞        \n",
              "λ₂ + 1 ⋅sin(θ)⎟        \n",
              "──────────────⎟⋅\\hat{b}\n",
              "__________    ⎟        \n",
              "\\omega}_b     ⎠        "
            ]
          },
          "metadata": {},
          "execution_count": 33
        }
      ]
    },
    {
      "cell_type": "code",
      "metadata": {
        "colab": {
          "base_uri": "https://localhost:8080/",
          "height": 0
        },
        "id": "0scxhswmTUE6",
        "outputId": "1272d484-6e21-47aa-84c4-ca28a1887655"
      },
      "source": [
        "eqBBd_f = expand(bd_f.subs({u_3:equ_3,u_4:equ_4,v_3:eqv_3,v_4:eqv_4}))\n",
        "eqBd_f = collect_coeff(eqBBd_f,a)+collect_coeff(eqBBd_f,ad)+collect_coeff(eqBBd_f,b)+collect_coeff(eqBBd_f,bd) \n",
        "eqBd_f"
      ],
      "execution_count": 34,
      "outputs": [
        {
          "output_type": "execute_result",
          "data": {
            "image/png": "[encoded data removed]",
            "text/latex": "$\\displaystyle \\left(- \\frac{\\sqrt{2} \\sqrt{\\tilde{\\omega}_b} \\sin{\\left(\\theta \\right)}}{4 \\sqrt{\\omega_{a}} \\sqrt{\\lambda_{2} + 1}} - \\frac{\\sqrt{2} \\sqrt{\\tilde{\\omega}_b} \\cos{\\left(\\theta \\right)}}{4 \\sqrt{\\omega_{a}} \\sqrt{1 - \\lambda_{2}}} - \\frac{\\sqrt{2} \\sqrt{\\omega_{a}} \\sqrt{1 - \\lambda_{2}} \\cos{\\left(\\theta \\right)}}{4 \\sqrt{\\tilde{\\omega}_b}} - \\frac{\\sqrt{2} \\sqrt{\\omega_{a}} \\sqrt{\\lambda_{2} + 1} \\sin{\\left(\\theta \\right)}}{4 \\sqrt{\\tilde{\\omega}_b}}\\right) {{\\hat{a}}^\\dagger} + \\left(- \\frac{\\sqrt{2} \\sqrt{\\tilde{\\omega}_b} \\sin{\\left(\\theta \\right)}}{4 \\sqrt{\\omega_{a}} \\sqrt{\\lambda_{2} + 1}} - \\frac{\\sqrt{2} \\sqrt{\\tilde{\\omega}_b} \\cos{\\left(\\theta \\right)}}{4 \\sqrt{\\omega_{a}} \\sqrt{1 - \\lambda_{2}}} + \\frac{\\sqrt{2} \\sqrt{\\omega_{a}} \\sqrt{1 - \\lambda_{2}} \\cos{\\left(\\theta \\right)}}{4 \\sqrt{\\tilde{\\omega}_b}} + \\frac{\\sqrt{2} \\sqrt{\\omega_{a}} \\sqrt{\\lambda_{2} + 1} \\sin{\\left(\\theta \\right)}}{4 \\sqrt{\\tilde{\\omega}_b}}\\right) {\\hat{a}} + \\left(- \\frac{\\sqrt{2} i \\sqrt{\\tilde{\\omega}_b} \\sin{\\left(\\theta \\right)}}{4 \\sqrt{\\omega_{b}} \\sqrt{\\lambda_{2} + 1}} + \\frac{\\sqrt{2} i \\sqrt{\\tilde{\\omega}_b} \\cos{\\left(\\theta \\right)}}{4 \\sqrt{\\omega_{b}} \\sqrt{1 - \\lambda_{2}}} + \\frac{\\sqrt{2} i \\sqrt{\\omega_{b}} \\sqrt{1 - \\lambda_{2}} \\cos{\\left(\\theta \\right)}}{4 \\sqrt{\\tilde{\\omega}_b}} - \\frac{\\sqrt{2} i \\sqrt{\\omega_{b}} \\sqrt{\\lambda_{2} + 1} \\sin{\\left(\\theta \\right)}}{4 \\sqrt{\\tilde{\\omega}_b}}\\right) {{\\hat{b}}^\\dagger} + \\left(\\frac{\\sqrt{2} i \\sqrt{\\tilde{\\omega}_b} \\sin{\\left(\\theta \\right)}}{4 \\sqrt{\\omega_{b}} \\sqrt{\\lambda_{2} + 1}} - \\frac{\\sqrt{2} i \\sqrt{\\tilde{\\omega}_b} \\cos{\\left(\\theta \\right)}}{4 \\sqrt{\\omega_{b}} \\sqrt{1 - \\lambda_{2}}} + \\frac{\\sqrt{2} i \\sqrt{\\omega_{b}} \\sqrt{1 - \\lambda_{2}} \\cos{\\left(\\theta \\right)}}{4 \\sqrt{\\tilde{\\omega}_b}} - \\frac{\\sqrt{2} i \\sqrt{\\omega_{b}} \\sqrt{\\lambda_{2} + 1} \\sin{\\left(\\theta \\right)}}{4 \\sqrt{\\tilde{\\omega}_b}}\\right) {\\hat{b}}$",
            "text/plain": [
              "⎛       __________________               __________________               ____\n",
              "⎜  √2⋅╲╱ \\tilde{\\omega}_b ⋅sin(θ)   √2⋅╲╱ \\tilde{\\omega}_b ⋅cos(θ)   √2⋅╲╱ ωₐ \n",
              "⎜- ────────────────────────────── - ────────────────────────────── - ─────────\n",
              "⎜           ____   ________                  ____   ________                __\n",
              "⎝       4⋅╲╱ ωₐ ⋅╲╱ λ₂ + 1               4⋅╲╱ ωₐ ⋅╲╱ 1 - λ₂             4⋅╲╱ \\\n",
              "\n",
              "   ________               ____   ________       ⎞            ⎛       _________\n",
              "⋅╲╱ 1 - λ₂ ⋅cos(θ)   √2⋅╲╱ ωₐ ⋅╲╱ λ₂ + 1 ⋅sin(θ)⎟        †   ⎜  √2⋅╲╱ \\tilde{\\\n",
              "────────────────── - ───────────────────────────⎟⋅\\hat{a}  + ⎜- ──────────────\n",
              "________________            __________________  ⎟            ⎜           ____ \n",
              "tilde{\\omega}_b         4⋅╲╱ \\tilde{\\omega}_b   ⎠            ⎝       4⋅╲╱ ωₐ ⋅\n",
              "\n",
              "_________               __________________               ____   ________      \n",
              "omega}_b ⋅sin(θ)   √2⋅╲╱ \\tilde{\\omega}_b ⋅cos(θ)   √2⋅╲╱ ωₐ ⋅╲╱ 1 - λ₂ ⋅cos(θ\n",
              "──────────────── - ────────────────────────────── + ──────────────────────────\n",
              "  ________                  ____   ________                __________________ \n",
              "╲╱ λ₂ + 1               4⋅╲╱ ωₐ ⋅╲╱ 1 - λ₂             4⋅╲╱ \\tilde{\\omega}_b  \n",
              "\n",
              "         ____   ________       ⎞           ⎛         __________________       \n",
              ")   √2⋅╲╱ ωₐ ⋅╲╱ λ₂ + 1 ⋅sin(θ)⎟           ⎜  √2⋅ⅈ⋅╲╱ \\tilde{\\omega}_b ⋅sin(θ)\n",
              "─ + ───────────────────────────⎟⋅\\hat{a} + ⎜- ────────────────────────────────\n",
              "           __________________  ⎟           ⎜            _____   ________      \n",
              "       4⋅╲╱ \\tilde{\\omega}_b   ⎠           ⎝        4⋅╲╱ ω_b ⋅╲╱ λ₂ + 1       \n",
              "\n",
              "          __________________                 _____   ________                 \n",
              "   √2⋅ⅈ⋅╲╱ \\tilde{\\omega}_b ⋅cos(θ)   √2⋅ⅈ⋅╲╱ ω_b ⋅╲╱ 1 - λ₂ ⋅cos(θ)   √2⋅ⅈ⋅╲╱\n",
              " + ──────────────────────────────── + ────────────────────────────── - ───────\n",
              "             _____   ________                 __________________              \n",
              "         4⋅╲╱ ω_b ⋅╲╱ 1 - λ₂              4⋅╲╱ \\tilde{\\omega}_b            4⋅╲\n",
              "\n",
              "_____   ________       ⎞            ⎛       __________________                \n",
              " ω_b ⋅╲╱ λ₂ + 1 ⋅sin(θ)⎟        †   ⎜√2⋅ⅈ⋅╲╱ \\tilde{\\omega}_b ⋅sin(θ)   √2⋅ⅈ⋅╲\n",
              "───────────────────────⎟⋅\\hat{b}  + ⎜──────────────────────────────── - ──────\n",
              " __________________    ⎟            ⎜          _____   ________               \n",
              "╱ \\tilde{\\omega}_b     ⎠            ⎝      4⋅╲╱ ω_b ⋅╲╱ λ₂ + 1                \n",
              "\n",
              " __________________                 _____   ________                 _____   _\n",
              "╱ \\tilde{\\omega}_b ⋅cos(θ)   √2⋅ⅈ⋅╲╱ ω_b ⋅╲╱ 1 - λ₂ ⋅cos(θ)   √2⋅ⅈ⋅╲╱ ω_b ⋅╲╱ \n",
              "────────────────────────── + ────────────────────────────── - ────────────────\n",
              "    _____   ________                 __________________               ________\n",
              "4⋅╲╱ ω_b ⋅╲╱ 1 - λ₂              4⋅╲╱ \\tilde{\\omega}_b            4⋅╲╱ \\tilde{\n",
              "\n",
              "_______       ⎞        \n",
              "λ₂ + 1 ⋅sin(θ)⎟        \n",
              "──────────────⎟⋅\\hat{b}\n",
              "__________    ⎟        \n",
              "\\omega}_b     ⎠        "
            ]
          },
          "metadata": {},
          "execution_count": 34
        }
      ]
    },
    {
      "cell_type": "code",
      "metadata": {
        "colab": {
          "base_uri": "https://localhost:8080/"
        },
        "id": "Ub2Jufh_bw_A",
        "outputId": "2857ad5b-d9f8-4540-f42d-42b915d0bedb"
      },
      "source": [
        "eqB_f.coeff(a)==eqBd_f.coeff(ad), eqB_f.coeff(ad)==eqBd_f.coeff(a), eqB_f.coeff(b)==-eqBd_f.coeff(bd), eqB_f.coeff(bd)==-eqBd_f.coeff(b)"
      ],
      "execution_count": 35,
      "outputs": [
        {
          "output_type": "execute_result",
          "data": {
            "text/plain": [
              "(True, True, True, True)"
            ]
          },
          "metadata": {},
          "execution_count": 35
        }
      ]
    },
    {
      "cell_type": "code",
      "metadata": {
        "colab": {
          "base_uri": "https://localhost:8080/",
          "height": 0
        },
        "id": "8kNfxHAFY-Bw",
        "outputId": "57aca582-ae49-4d03-ed5c-9021eabd7a71"
      },
      "source": [
        "r_11,r_12,r_13,r_14 = symbols('r_11,r_12,r_13,r_14',real=True)\n",
        "r_21,r_22,r_23,r_24 = symbols('r_21,r_22,r_23,r_24',real=True)\n",
        "A_f = r_11*a+I*r_12*b+r_13*ad+I*r_14*bd\n",
        "Ad_f = r_13*a-I*r_14*b+r_11*ad-I*r_12*bd\n",
        "A_f,Ad_f"
      ],
      "execution_count": 36,
      "outputs": [
        {
          "output_type": "execute_result",
          "data": {
            "image/png": "[encoded data removed]",
            "text/latex": "$\\displaystyle \\left( r_{11} {\\hat{a}} + i r_{12} {\\hat{b}} + r_{13} {{\\hat{a}}^\\dagger} + i r_{14} {{\\hat{b}}^\\dagger}, \\  r_{11} {{\\hat{a}}^\\dagger} - i r_{12} {{\\hat{b}}^\\dagger} + r_{13} {\\hat{a}} - i r_{14} {\\hat{b}}\\right)$",
            "text/plain": [
              "⎛                                         †                †             †    \n",
              "⎝r₁₁⋅\\hat{a} + ⅈ⋅r₁₂⋅\\hat{b} + r₁₃⋅\\hat{a}  + ⅈ⋅r₁₄⋅\\hat{b} , r₁₁⋅\\hat{a}  - ⅈ\n",
              "\n",
              "            †                              ⎞\n",
              "⋅r₁₂⋅\\hat{b}  + r₁₃⋅\\hat{a} - ⅈ⋅r₁₄⋅\\hat{b}⎠"
            ]
          },
          "metadata": {},
          "execution_count": 36
        }
      ]
    },
    {
      "cell_type": "code",
      "metadata": {
        "colab": {
          "base_uri": "https://localhost:8080/",
          "height": 0
        },
        "id": "pt8YlFvtblwz",
        "outputId": "c044080b-5a86-4998-8717-6a85aa369144"
      },
      "source": [
        "B_f = r_21*a+I*r_22*b+r_23*ad+I*r_24*bd\n",
        "Bd_f = r_23*a-I*r_24*b+r_21*ad-I*r_22*bd\n",
        "B_f,Bd_f"
      ],
      "execution_count": 37,
      "outputs": [
        {
          "output_type": "execute_result",
          "data": {
            "image/png": "[encoded data removed]",
            "text/latex": "$\\displaystyle \\left( r_{21} {\\hat{a}} + i r_{22} {\\hat{b}} + r_{23} {{\\hat{a}}^\\dagger} + i r_{24} {{\\hat{b}}^\\dagger}, \\  r_{21} {{\\hat{a}}^\\dagger} - i r_{22} {{\\hat{b}}^\\dagger} + r_{23} {\\hat{a}} - i r_{24} {\\hat{b}}\\right)$",
            "text/plain": [
              "⎛                                         †                †             †    \n",
              "⎝r₂₁⋅\\hat{a} + ⅈ⋅r₂₂⋅\\hat{b} + r₂₃⋅\\hat{a}  + ⅈ⋅r₂₄⋅\\hat{b} , r₂₁⋅\\hat{a}  - ⅈ\n",
              "\n",
              "            †                              ⎞\n",
              "⋅r₂₂⋅\\hat{b}  + r₂₃⋅\\hat{a} - ⅈ⋅r₂₄⋅\\hat{b}⎠"
            ]
          },
          "metadata": {},
          "execution_count": 37
        }
      ]
    },
    {
      "cell_type": "code",
      "metadata": {
        "colab": {
          "base_uri": "https://localhost:8080/",
          "height": 0
        },
        "id": "37e0oAXscw7R",
        "outputId": "41d52135-afe5-4f49-91f9-01eec3e58bcd"
      },
      "source": [
        "eqr_11 = eqA_f.coeff(a)\n",
        "eqr_12 = eqA_f.coeff(b).coeff(I)\n",
        "eqr_13 = eqA_f.coeff(ad)\n",
        "eqr_14 = eqA_f.coeff(bd).coeff(I)\n",
        "eqr_11,eqr_12,eqr_13,eqr_14"
      ],
      "execution_count": 38,
      "outputs": [
        {
          "output_type": "execute_result",
          "data": {
            "image/png": "[encoded data removed]",
            "text/latex": "$\\displaystyle \\left( \\frac{\\sqrt{2} \\sqrt{\\tilde{\\omega}_a} \\cos{\\left(\\theta \\right)}}{4 \\sqrt{\\omega_{a}} \\sqrt{\\lambda_{2} + 1}} - \\frac{\\sqrt{2} \\sqrt{\\tilde{\\omega}_a} \\sin{\\left(\\theta \\right)}}{4 \\sqrt{\\omega_{a}} \\sqrt{1 - \\lambda_{2}}} - \\frac{\\sqrt{2} \\sqrt{\\omega_{a}} \\sqrt{1 - \\lambda_{2}} \\sin{\\left(\\theta \\right)}}{4 \\sqrt{\\tilde{\\omega}_a}} + \\frac{\\sqrt{2} \\sqrt{\\omega_{a}} \\sqrt{\\lambda_{2} + 1} \\cos{\\left(\\theta \\right)}}{4 \\sqrt{\\tilde{\\omega}_a}}, \\  - \\frac{\\sqrt{2} \\sqrt{\\tilde{\\omega}_a} \\cos{\\left(\\theta \\right)}}{4 \\sqrt{\\omega_{b}} \\sqrt{\\lambda_{2} + 1}} - \\frac{\\sqrt{2} \\sqrt{\\tilde{\\omega}_a} \\sin{\\left(\\theta \\right)}}{4 \\sqrt{\\omega_{b}} \\sqrt{1 - \\lambda_{2}}} - \\frac{\\sqrt{2} \\sqrt{\\omega_{b}} \\sqrt{1 - \\lambda_{2}} \\sin{\\left(\\theta \\right)}}{4 \\sqrt{\\tilde{\\omega}_a}} - \\frac{\\sqrt{2} \\sqrt{\\omega_{b}} \\sqrt{\\lambda_{2} + 1} \\cos{\\left(\\theta \\right)}}{4 \\sqrt{\\tilde{\\omega}_a}}, \\  \\frac{\\sqrt{2} \\sqrt{\\tilde{\\omega}_a} \\cos{\\left(\\theta \\right)}}{4 \\sqrt{\\omega_{a}} \\sqrt{\\lambda_{2} + 1}} - \\frac{\\sqrt{2} \\sqrt{\\tilde{\\omega}_a} \\sin{\\left(\\theta \\right)}}{4 \\sqrt{\\omega_{a}} \\sqrt{1 - \\lambda_{2}}} + \\frac{\\sqrt{2} \\sqrt{\\omega_{a}} \\sqrt{1 - \\lambda_{2}} \\sin{\\left(\\theta \\right)}}{4 \\sqrt{\\tilde{\\omega}_a}} - \\frac{\\sqrt{2} \\sqrt{\\omega_{a}} \\sqrt{\\lambda_{2} + 1} \\cos{\\left(\\theta \\right)}}{4 \\sqrt{\\tilde{\\omega}_a}}, \\  \\frac{\\sqrt{2} \\sqrt{\\tilde{\\omega}_a} \\cos{\\left(\\theta \\right)}}{4 \\sqrt{\\omega_{b}} \\sqrt{\\lambda_{2} + 1}} + \\frac{\\sqrt{2} \\sqrt{\\tilde{\\omega}_a} \\sin{\\left(\\theta \\right)}}{4 \\sqrt{\\omega_{b}} \\sqrt{1 - \\lambda_{2}}} - \\frac{\\sqrt{2} \\sqrt{\\omega_{b}} \\sqrt{1 - \\lambda_{2}} \\sin{\\left(\\theta \\right)}}{4 \\sqrt{\\tilde{\\omega}_a}} - \\frac{\\sqrt{2} \\sqrt{\\omega_{b}} \\sqrt{\\lambda_{2} + 1} \\cos{\\left(\\theta \\right)}}{4 \\sqrt{\\tilde{\\omega}_a}}\\right)$",
            "text/plain": [
              "⎛     _________________               _________________               ____   _\n",
              "⎜√2⋅╲╱ \\tilde{\\omega}ₐ ⋅cos(θ)   √2⋅╲╱ \\tilde{\\omega}ₐ ⋅sin(θ)   √2⋅╲╱ ωₐ ⋅╲╱ \n",
              "⎜───────────────────────────── - ───────────────────────────── - ─────────────\n",
              "⎜         ____   ________                 ____   ________               ______\n",
              "⎝     4⋅╲╱ ωₐ ⋅╲╱ λ₂ + 1              4⋅╲╱ ωₐ ⋅╲╱ 1 - λ₂            4⋅╲╱ \\tild\n",
              "\n",
              "_______               ____   ________                _________________        \n",
              "1 - λ₂ ⋅sin(θ)   √2⋅╲╱ ωₐ ⋅╲╱ λ₂ + 1 ⋅cos(θ)    √2⋅╲╱ \\tilde{\\omega}ₐ ⋅cos(θ) \n",
              "────────────── + ───────────────────────────, - ───────────────────────────── \n",
              "___________             _________________                _____   ________     \n",
              "e{\\omega}ₐ          4⋅╲╱ \\tilde{\\omega}ₐ             4⋅╲╱ ω_b ⋅╲╱ λ₂ + 1      \n",
              "\n",
              "       _________________               _____   ________               _____   \n",
              "  √2⋅╲╱ \\tilde{\\omega}ₐ ⋅sin(θ)   √2⋅╲╱ ω_b ⋅╲╱ 1 - λ₂ ⋅sin(θ)   √2⋅╲╱ ω_b ⋅╲╱\n",
              "- ───────────────────────────── - ──────────────────────────── - ─────────────\n",
              "           _____   ________              _________________              ______\n",
              "       4⋅╲╱ ω_b ⋅╲╱ 1 - λ₂           4⋅╲╱ \\tilde{\\omega}ₐ           4⋅╲╱ \\tild\n",
              "\n",
              "________              _________________               _________________       \n",
              " λ₂ + 1 ⋅cos(θ)  √2⋅╲╱ \\tilde{\\omega}ₐ ⋅cos(θ)   √2⋅╲╱ \\tilde{\\omega}ₐ ⋅sin(θ)\n",
              "───────────────, ───────────────────────────── - ─────────────────────────────\n",
              "___________               ____   ________                 ____   ________     \n",
              "e{\\omega}ₐ            4⋅╲╱ ωₐ ⋅╲╱ λ₂ + 1              4⋅╲╱ ωₐ ⋅╲╱ 1 - λ₂      \n",
              "\n",
              "        ____   ________               ____   ________              ___________\n",
              "   √2⋅╲╱ ωₐ ⋅╲╱ 1 - λ₂ ⋅sin(θ)   √2⋅╲╱ ωₐ ⋅╲╱ λ₂ + 1 ⋅cos(θ)  √2⋅╲╱ \\tilde{\\om\n",
              " + ─────────────────────────── - ───────────────────────────, ────────────────\n",
              "          _________________             _________________              _____  \n",
              "      4⋅╲╱ \\tilde{\\omega}ₐ          4⋅╲╱ \\tilde{\\omega}ₐ           4⋅╲╱ ω_b ⋅╲\n",
              "\n",
              "______               _________________               _____   ________         \n",
              "ega}ₐ ⋅cos(θ)   √2⋅╲╱ \\tilde{\\omega}ₐ ⋅sin(θ)   √2⋅╲╱ ω_b ⋅╲╱ 1 - λ₂ ⋅sin(θ)  \n",
              "───────────── + ───────────────────────────── - ──────────────────────────── -\n",
              " ________                _____   ________              _________________      \n",
              "╱ λ₂ + 1             4⋅╲╱ ω_b ⋅╲╱ 1 - λ₂           4⋅╲╱ \\tilde{\\omega}ₐ       \n",
              "\n",
              "      _____   ________       ⎞\n",
              " √2⋅╲╱ ω_b ⋅╲╱ λ₂ + 1 ⋅cos(θ)⎟\n",
              " ────────────────────────────⎟\n",
              "        _________________    ⎟\n",
              "    4⋅╲╱ \\tilde{\\omega}ₐ     ⎠"
            ]
          },
          "metadata": {},
          "execution_count": 38
        }
      ]
    },
    {
      "cell_type": "code",
      "metadata": {
        "colab": {
          "base_uri": "https://localhost:8080/",
          "height": 0
        },
        "id": "6Ocw9Ap1dNXy",
        "outputId": "dae04a0f-c851-4d07-8740-b68f9b2327f6"
      },
      "source": [
        "expand(eqr_11**2-eqr_13**2+eqr_12**2-eqr_14**2)"
      ],
      "execution_count": 39,
      "outputs": [
        {
          "output_type": "execute_result",
          "data": {
            "image/png": "[encoded data removed]",
            "text/latex": "$\\displaystyle \\sin^{2}{\\left(\\theta \\right)} + \\cos^{2}{\\left(\\theta \\right)}$",
            "text/plain": [
              "   2         2   \n",
              "sin (θ) + cos (θ)"
            ]
          },
          "metadata": {},
          "execution_count": 39
        }
      ]
    },
    {
      "cell_type": "markdown",
      "metadata": {
        "id": "5_BELeQMDA7N"
      },
      "source": [
        "### **Let us introdce two orthogonal, generalized annihilation operators:**\n",
        "\\begin{equation}\n",
        "\\begin{split}\n",
        "\\hat{c} &= \\hat{a}_g\\cos(\\varphi)+\\hat{b}_g\\sin(\\varphi)e^{\\text{i}\\psi},\\\\\n",
        "\\hat{c}^\\dagger &= \\hat{a}_g^\\dagger\\cos(\\varphi)+\\hat{b}_g^\\dagger\\sin(\\varphi)e^{-\\text{i}\\psi}.\n",
        "\\end{split}\n",
        "\\end{equation}\n",
        "Consequently, we define the quadrature,\n",
        "\\begin{equation}\n",
        "\\hat{X}_{\\varphi,\\psi,\\phi}=\\frac{1}{2}\\left(\\hat{c}e^{\\text{i}\\phi}+\\hat{c}^\\dagger e^{-\\text{i}\\phi}\\right)\n",
        "\\end{equation}\n",
        "\n",
        "\\begin{equation}\n",
        "\\begin{split}\n",
        "\\langle0|\\hat{X}_{\\varphi,\\phi}^2|0\\rangle&=\\frac{1}{4}\\left(\\langle0|\\hat{c}^\\dagger\\hat{c}|0\\rangle+\\langle0|\\hat{c}\\hat{c}^\\dagger|0\\rangle+\\langle0|\\hat{c}^2|0\\rangle \n",
        "e^{\\text{i}2\\phi}+\\langle0|\\hat{c}^{\\dagger2}|0\\rangle e^{-\\text{i}2\\phi}\\right),\\\\\n",
        "\\langle0|\\hat{X}_{\\varphi,\\phi}|0\\rangle&=0,\n",
        "\\end{split}\n",
        "\\end{equation}\n",
        "\\begin{equation}\n",
        "\\left(\\Delta X_{\\varphi,\\phi}\\right)^2:=\\langle0|\\hat{X}_{\\varphi,\\phi}^2|0\\rangle-\\langle0|\\hat{X}_{\\varphi,\\phi}|0\\rangle^2\n",
        "\\end{equation} \n"
      ]
    },
    {
      "cell_type": "code",
      "metadata": {
        "id": "FzWwnFrS9_hO"
      },
      "source": [
        "varphi, psi, phi = symbols('varphi, psi, phi', real=True)\n",
        "a_g , b_g = Operator('\\hat{a}_g'), Operator('\\hat{b}_g')\n",
        "ad_g, bd_g = Dagger(a_g), Dagger(b_g)\n",
        "c = cos(varphi)*a_g+sin(varphi)*exp(I*psi)*b_g\n",
        "cd = cos(varphi)*ad_g+sin(varphi)*exp(-I*psi)*bd_g"
      ],
      "execution_count": 40,
      "outputs": []
    },
    {
      "cell_type": "code",
      "metadata": {
        "colab": {
          "base_uri": "https://localhost:8080/",
          "height": 0
        },
        "id": "9S0GYiqsBsQT",
        "outputId": "c65f5d3e-1fc8-4609-a4e9-649ac18d5b44"
      },
      "source": [
        "c, cd"
      ],
      "execution_count": 41,
      "outputs": [
        {
          "output_type": "execute_result",
          "data": {
            "image/png": "[encoded data removed]",
            "text/latex": "$\\displaystyle \\left( e^{i \\psi} \\sin{\\left(\\varphi \\right)} \\hat{b}_g + \\cos{\\left(\\varphi \\right)} \\hat{a}_g, \\  \\cos{\\left(\\varphi \\right)} \\hat{a}_g^{\\dagger} + e^{- i \\psi} \\sin{\\left(\\varphi \\right)} \\hat{b}_g^{\\dagger}\\right)$",
            "text/plain": [
              "⎛ ⅈ⋅ψ                                                                     †   \n",
              "⎝ℯ   ⋅sin(varphi)⋅\\hat{b}_g + cos(varphi)⋅\\hat{a}_g, cos(varphi)⋅\\hat{a}_g  + \n",
              "\n",
              " -ⅈ⋅ψ                      †⎞\n",
              "ℯ    ⋅sin(varphi)⋅\\hat{b}_g ⎠"
            ]
          },
          "metadata": {},
          "execution_count": 41
        }
      ]
    },
    {
      "cell_type": "code",
      "metadata": {
        "colab": {
          "base_uri": "https://localhost:8080/",
          "height": 0
        },
        "id": "x7waZ4TXB3Bx",
        "outputId": "eeea0746-c20f-4105-a971-88b618a778f7"
      },
      "source": [
        "C = expand(c.subs({a_g:A_f,b_g:B_f}))\n",
        "C"
      ],
      "execution_count": 42,
      "outputs": [
        {
          "output_type": "execute_result",
          "data": {
            "image/png": "[encoded data removed]",
            "text/latex": "$\\displaystyle r_{11} \\cos{\\left(\\varphi \\right)} {\\hat{a}} + i r_{12} \\cos{\\left(\\varphi \\right)} {\\hat{b}} + r_{13} \\cos{\\left(\\varphi \\right)} {{\\hat{a}}^\\dagger} + i r_{14} \\cos{\\left(\\varphi \\right)} {{\\hat{b}}^\\dagger} + r_{21} e^{i \\psi} \\sin{\\left(\\varphi \\right)} {\\hat{a}} + i r_{22} e^{i \\psi} \\sin{\\left(\\varphi \\right)} {\\hat{b}} + r_{23} e^{i \\psi} \\sin{\\left(\\varphi \\right)} {{\\hat{a}}^\\dagger} + i r_{24} e^{i \\psi} \\sin{\\left(\\varphi \\right)} {{\\hat{b}}^\\dagger}$",
            "text/plain": [
              "                                                                             †\n",
              "r₁₁⋅cos(varphi)⋅\\hat{a} + ⅈ⋅r₁₂⋅cos(varphi)⋅\\hat{b} + r₁₃⋅cos(varphi)⋅\\hat{a} \n",
              "\n",
              "                            †        ⅈ⋅ψ                              ⅈ⋅ψ     \n",
              " + ⅈ⋅r₁₄⋅cos(varphi)⋅\\hat{b}  + r₂₁⋅ℯ   ⋅sin(varphi)⋅\\hat{a} + ⅈ⋅r₂₂⋅ℯ   ⋅sin(\n",
              "\n",
              "                       ⅈ⋅ψ                    †          ⅈ⋅ψ                  \n",
              "varphi)⋅\\hat{b} + r₂₃⋅ℯ   ⋅sin(varphi)⋅\\hat{a}  + ⅈ⋅r₂₄⋅ℯ   ⋅sin(varphi)⋅\\hat{\n",
              "\n",
              "  †\n",
              "b} "
            ]
          },
          "metadata": {},
          "execution_count": 42
        }
      ]
    },
    {
      "cell_type": "code",
      "metadata": {
        "colab": {
          "base_uri": "https://localhost:8080/",
          "height": 0
        },
        "id": "mfidtl0bFR7b",
        "outputId": "da6e4035-de46-43c5-c056-2fd11a06bf19"
      },
      "source": [
        "Cd = expand(cd.subs({ad_g:Ad_f,bd_g:Bd_f}))\n",
        "Cd"
      ],
      "execution_count": 43,
      "outputs": [
        {
          "output_type": "execute_result",
          "data": {
            "image/png": "[encoded data removed]",
            "text/latex": "$\\displaystyle r_{11} \\cos{\\left(\\varphi \\right)} {{\\hat{a}}^\\dagger} - i r_{12} \\cos{\\left(\\varphi \\right)} {{\\hat{b}}^\\dagger} + r_{13} \\cos{\\left(\\varphi \\right)} {\\hat{a}} - i r_{14} \\cos{\\left(\\varphi \\right)} {\\hat{b}} + r_{21} e^{- i \\psi} \\sin{\\left(\\varphi \\right)} {{\\hat{a}}^\\dagger} - i r_{22} e^{- i \\psi} \\sin{\\left(\\varphi \\right)} {{\\hat{b}}^\\dagger} + r_{23} e^{- i \\psi} \\sin{\\left(\\varphi \\right)} {\\hat{a}} - i r_{24} e^{- i \\psi} \\sin{\\left(\\varphi \\right)} {\\hat{b}}$",
            "text/plain": [
              "                       †                            †                         \n",
              "r₁₁⋅cos(varphi)⋅\\hat{a}  - ⅈ⋅r₁₂⋅cos(varphi)⋅\\hat{b}  + r₁₃⋅cos(varphi)⋅\\hat{a\n",
              "\n",
              "                                     -ⅈ⋅ψ                    †          -ⅈ⋅ψ  \n",
              "} - ⅈ⋅r₁₄⋅cos(varphi)⋅\\hat{b} + r₂₁⋅ℯ    ⋅sin(varphi)⋅\\hat{a}  - ⅈ⋅r₂₂⋅ℯ    ⋅s\n",
              "\n",
              "                  †        -ⅈ⋅ψ                              -ⅈ⋅ψ             \n",
              "in(varphi)⋅\\hat{b}  + r₂₃⋅ℯ    ⋅sin(varphi)⋅\\hat{a} - ⅈ⋅r₂₄⋅ℯ    ⋅sin(varphi)⋅\n",
              "\n",
              "       \n",
              "\\hat{b}"
            ]
          },
          "metadata": {},
          "execution_count": 43
        }
      ]
    },
    {
      "cell_type": "code",
      "metadata": {
        "id": "kISySN-1F2Bu"
      },
      "source": [
        "tt_1 = collect_coeff(expand(Cd*C),a*ad).coeff(a*ad)+collect_coeff(expand(Cd*C),b*bd).coeff(b*bd)\n",
        "tt_2 = collect_coeff(expand(C*Cd),a*ad).coeff(a*ad)+collect_coeff(expand(C*Cd),b*bd).coeff(b*bd)\n",
        "#------------------------"
      ],
      "execution_count": 44,
      "outputs": []
    },
    {
      "cell_type": "code",
      "metadata": {
        "colab": {
          "base_uri": "https://localhost:8080/",
          "height": 0
        },
        "id": "PDjGuxi9KGJ2",
        "outputId": "b25689e7-d09a-46c4-cf75-47502025c7a8"
      },
      "source": [
        "t_1 = tt_1.expand(complex=True)\n",
        "t_1"
      ],
      "execution_count": 45,
      "outputs": [
        {
          "output_type": "execute_result",
          "data": {
            "image/png": "[encoded data removed]",
            "text/latex": "$\\displaystyle r_{13}^{2} \\cos^{2}{\\left(\\varphi \\right)} + 2 r_{13} r_{23} \\sin{\\left(\\varphi \\right)} \\cos{\\left(\\psi \\right)} \\cos{\\left(\\varphi \\right)} + r_{14}^{2} \\cos^{2}{\\left(\\varphi \\right)} + 2 r_{14} r_{24} \\sin{\\left(\\varphi \\right)} \\cos{\\left(\\psi \\right)} \\cos{\\left(\\varphi \\right)} + r_{23}^{2} \\sin^{2}{\\left(\\varphi \\right)} + r_{24}^{2} \\sin^{2}{\\left(\\varphi \\right)}$",
            "text/plain": [
              "   2    2                                                         2    2      \n",
              "r₁₃ ⋅cos (varphi) + 2⋅r₁₃⋅r₂₃⋅sin(varphi)⋅cos(ψ)⋅cos(varphi) + r₁₄ ⋅cos (varph\n",
              "\n",
              "                                                   2    2              2    2 \n",
              "i) + 2⋅r₁₄⋅r₂₄⋅sin(varphi)⋅cos(ψ)⋅cos(varphi) + r₂₃ ⋅sin (varphi) + r₂₄ ⋅sin (\n",
              "\n",
              "       \n",
              "varphi)"
            ]
          },
          "metadata": {},
          "execution_count": 45
        }
      ]
    },
    {
      "cell_type": "code",
      "metadata": {
        "colab": {
          "base_uri": "https://localhost:8080/",
          "height": 0
        },
        "id": "AJrglX6tK1ky",
        "outputId": "78961faa-e1b1-4f6f-a625-78b55bffa954"
      },
      "source": [
        "t_2 = tt_2.expand(complex=True)\n",
        "t_2"
      ],
      "execution_count": 46,
      "outputs": [
        {
          "output_type": "execute_result",
          "data": {
            "image/png": "[encoded data removed]",
            "text/latex": "$\\displaystyle r_{11}^{2} \\cos^{2}{\\left(\\varphi \\right)} + 2 r_{11} r_{21} \\sin{\\left(\\varphi \\right)} \\cos{\\left(\\psi \\right)} \\cos{\\left(\\varphi \\right)} + r_{12}^{2} \\cos^{2}{\\left(\\varphi \\right)} + 2 r_{12} r_{22} \\sin{\\left(\\varphi \\right)} \\cos{\\left(\\psi \\right)} \\cos{\\left(\\varphi \\right)} + r_{21}^{2} \\sin^{2}{\\left(\\varphi \\right)} + r_{22}^{2} \\sin^{2}{\\left(\\varphi \\right)}$",
            "text/plain": [
              "   2    2                                                         2    2      \n",
              "r₁₁ ⋅cos (varphi) + 2⋅r₁₁⋅r₂₁⋅sin(varphi)⋅cos(ψ)⋅cos(varphi) + r₁₂ ⋅cos (varph\n",
              "\n",
              "                                                   2    2              2    2 \n",
              "i) + 2⋅r₁₂⋅r₂₂⋅sin(varphi)⋅cos(ψ)⋅cos(varphi) + r₂₁ ⋅sin (varphi) + r₂₂ ⋅sin (\n",
              "\n",
              "       \n",
              "varphi)"
            ]
          },
          "metadata": {},
          "execution_count": 46
        }
      ]
    },
    {
      "cell_type": "code",
      "metadata": {
        "colab": {
          "base_uri": "https://localhost:8080/",
          "height": 0
        },
        "id": "6QxiYaSfK2AP",
        "outputId": "6a7408cd-ac70-4e4c-e8dd-6af214ae1bcc"
      },
      "source": [
        "collect(t_1+t_2,(cos(varphi)**2,sin(varphi)**2,sin(varphi)*cos(psi)*cos(varphi)))"
      ],
      "execution_count": 47,
      "outputs": [
        {
          "output_type": "execute_result",
          "data": {
            "image/png": "[encoded data removed]",
            "text/latex": "$\\displaystyle \\left(r_{11}^{2} + r_{12}^{2} + r_{13}^{2} + r_{14}^{2}\\right) \\cos^{2}{\\left(\\varphi \\right)} + \\left(r_{21}^{2} + r_{22}^{2} + r_{23}^{2} + r_{24}^{2}\\right) \\sin^{2}{\\left(\\varphi \\right)} + \\left(2 r_{11} r_{21} + 2 r_{12} r_{22} + 2 r_{13} r_{23} + 2 r_{14} r_{24}\\right) \\sin{\\left(\\varphi \\right)} \\cos{\\left(\\psi \\right)} \\cos{\\left(\\varphi \\right)}$",
            "text/plain": [
              "⎛   2      2      2      2⎞    2           ⎛   2      2      2      2⎞    2   \n",
              "⎝r₁₁  + r₁₂  + r₁₃  + r₁₄ ⎠⋅cos (varphi) + ⎝r₂₁  + r₂₂  + r₂₃  + r₂₄ ⎠⋅sin (va\n",
              "\n",
              "                                                                              \n",
              "rphi) + (2⋅r₁₁⋅r₂₁ + 2⋅r₁₂⋅r₂₂ + 2⋅r₁₃⋅r₂₃ + 2⋅r₁₄⋅r₂₄)⋅sin(varphi)⋅cos(ψ)⋅cos\n",
              "\n",
              "        \n",
              "(varphi)"
            ]
          },
          "metadata": {},
          "execution_count": 47
        }
      ]
    },
    {
      "cell_type": "code",
      "metadata": {
        "colab": {
          "base_uri": "https://localhost:8080/",
          "height": 0
        },
        "id": "WGWv4WYeLc9o",
        "outputId": "590e1f6e-245f-4024-9d74-bbdceb9924d5"
      },
      "source": [
        "collect(expand(t_1.subs({u_1:equ_1,u_2:equ_2,u_3:equ_3,u_4:equ_4,v_1:eqv_1,v_2:eqv_2,v_3:eqv_3,v_4:eqv_4})),(cos(varphi)**2,sin(varphi)**2))"
      ],
      "execution_count": 48,
      "outputs": [
        {
          "output_type": "execute_result",
          "data": {
            "image/png": "[encoded data removed]",
            "text/latex": "$\\displaystyle 2 r_{13} r_{23} \\sin{\\left(\\varphi \\right)} \\cos{\\left(\\psi \\right)} \\cos{\\left(\\varphi \\right)} + 2 r_{14} r_{24} \\sin{\\left(\\varphi \\right)} \\cos{\\left(\\psi \\right)} \\cos{\\left(\\varphi \\right)} + \\left(r_{13}^{2} + r_{14}^{2}\\right) \\cos^{2}{\\left(\\varphi \\right)} + \\left(r_{23}^{2} + r_{24}^{2}\\right) \\sin^{2}{\\left(\\varphi \\right)}$",
            "text/plain": [
              "                                                                              \n",
              "2⋅r₁₃⋅r₂₃⋅sin(varphi)⋅cos(ψ)⋅cos(varphi) + 2⋅r₁₄⋅r₂₄⋅sin(varphi)⋅cos(ψ)⋅cos(va\n",
              "\n",
              "        ⎛   2      2⎞    2           ⎛   2      2⎞    2        \n",
              "rphi) + ⎝r₁₃  + r₁₄ ⎠⋅cos (varphi) + ⎝r₂₃  + r₂₄ ⎠⋅sin (varphi)"
            ]
          },
          "metadata": {},
          "execution_count": 48
        }
      ]
    },
    {
      "cell_type": "code",
      "metadata": {
        "id": "eCiWXBTbOI5l"
      },
      "source": [
        ""
      ],
      "execution_count": 48,
      "outputs": []
    }
  ]
}